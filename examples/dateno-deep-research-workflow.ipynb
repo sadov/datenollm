{
  "nbformat": 4,
  "nbformat_minor": 0,
  "metadata": {
    "colab": {
      "provenance": [],
      "authorship_tag": "ABX9TyNzSvPTKGtIThZHPbIMWAD7",
      "include_colab_link": true
    },
    "kernelspec": {
      "name": "python3",
      "display_name": "Python 3"
    },
    "language_info": {
      "name": "python"
    }
  },
  "cells": [
    {
      "cell_type": "markdown",
      "metadata": {
        "id": "view-in-github",
        "colab_type": "text"
      },
      "source": [
        "<a href=\"https://colab.research.google.com/gist/sadov/05fae93ce77a23b0c3cbc6ba91d97f9c/dateno-deep-research-workflow.ipynb\" target=\"_parent\"><img src=\"https://colab.research.google.com/assets/colab-badge.svg\" alt=\"Open In Colab\"/></a>"
      ]
    },
    {
      "cell_type": "markdown",
      "source": [
        "# Пример Dateno Deep Research workflow"
      ],
      "metadata": {
        "id": "LluTYygO8BbO"
      }
    },
    {
      "cell_type": "markdown",
      "source": [
        "Пример workflow для проведения глубокого исследования с помощью LLM-агентов Dateno. В этом примере можно увидеть как компоновать различные LLM-агенты Dateno для получения управляемого на каждом этапе цикла рабочих исследований с использованием детерменированного поиска в БД датасетов Dateno."
      ],
      "metadata": {
        "id": "q0VjbGGg8Zx9"
      }
    },
    {
      "cell_type": "markdown",
      "source": [
        "## Первый этап workflow -- Query Assistant LLM-агент"
      ],
      "metadata": {
        "id": "elvHoQg3kcTz"
      }
    },
    {
      "cell_type": "markdown",
      "source": [
        "LLM-агент Query Assistant -- анализирует исходный запрос пользователя, определяет ключевые сущности, тему и контекст поиска. Формулирует уточняющие вопросы для устранения неоднозначности и сбора дополнительной информации. Переформулирует запрос в набор запросов для LLM-агента Dateno Search."
      ],
      "metadata": {
        "id": "X1eYvkNOk5iz"
      }
    },
    {
      "cell_type": "code",
      "execution_count": null,
      "metadata": {
        "id": "oLPk6npBSToZ"
      },
      "outputs": [],
      "source": [
        "HF_TOKEN='YOUR DATENO HF SPACE TOKEN'"
      ]
    },
    {
      "cell_type": "code",
      "source": [
        "!pip install git+https://github.com/datenoio/datenollm"
      ],
      "metadata": {
        "colab": {
          "base_uri": "https://localhost:8080/"
        },
        "id": "YLCmt3ybTHi0",
        "outputId": "6cee56a6-8db7-43c3-e92b-abf68fe329c9",
        "collapsed": true
      },
      "execution_count": null,
      "outputs": [
        {
          "output_type": "stream",
          "name": "stdout",
          "text": [
            "Collecting git+https://github.com/datenoio/datenollm\n",
            "  Cloning https://github.com/datenoio/datenollm to /tmp/pip-req-build-qjoyuv1k\n",
            "  Running command git clone --filter=blob:none --quiet https://github.com/datenoio/datenollm /tmp/pip-req-build-qjoyuv1k\n",
            "  Resolved https://github.com/datenoio/datenollm to commit c5f990af657cf54ddd03158a426e45bed78cf478\n",
            "  Installing build dependencies ... \u001b[?25l\u001b[?25hdone\n",
            "  Getting requirements to build wheel ... \u001b[?25l\u001b[?25hdone\n",
            "  Preparing metadata (pyproject.toml) ... \u001b[?25l\u001b[?25hdone\n",
            "Requirement already satisfied: gradio_client in /usr/local/lib/python3.12/dist-packages (from datenollm==0.0.1) (1.12.1)\n",
            "Collecting logfire>=3.24.2 (from datenollm==0.0.1)\n",
            "  Downloading logfire-4.4.0-py3-none-any.whl.metadata (10 kB)\n",
            "Collecting executing>=2.0.1 (from logfire>=3.24.2->datenollm==0.0.1)\n",
            "  Downloading executing-2.2.1-py2.py3-none-any.whl.metadata (8.9 kB)\n",
            "Collecting opentelemetry-exporter-otlp-proto-http<1.37.0,>=1.21.0 (from logfire>=3.24.2->datenollm==0.0.1)\n",
            "  Downloading opentelemetry_exporter_otlp_proto_http-1.36.0-py3-none-any.whl.metadata (2.3 kB)\n",
            "Collecting opentelemetry-instrumentation>=0.41b0 (from logfire>=3.24.2->datenollm==0.0.1)\n",
            "  Downloading opentelemetry_instrumentation-0.57b0-py3-none-any.whl.metadata (6.7 kB)\n",
            "Requirement already satisfied: opentelemetry-sdk<1.37.0,>=1.21.0 in /usr/local/lib/python3.12/dist-packages (from logfire>=3.24.2->datenollm==0.0.1) (1.36.0)\n",
            "Requirement already satisfied: protobuf>=4.23.4 in /usr/local/lib/python3.12/dist-packages (from logfire>=3.24.2->datenollm==0.0.1) (5.29.5)\n",
            "Requirement already satisfied: rich>=13.4.2 in /usr/local/lib/python3.12/dist-packages (from logfire>=3.24.2->datenollm==0.0.1) (13.9.4)\n",
            "Requirement already satisfied: typing-extensions>=4.1.0 in /usr/local/lib/python3.12/dist-packages (from logfire>=3.24.2->datenollm==0.0.1) (4.15.0)\n",
            "Requirement already satisfied: fsspec in /usr/local/lib/python3.12/dist-packages (from gradio_client->datenollm==0.0.1) (2025.3.0)\n",
            "Requirement already satisfied: httpx>=0.24.1 in /usr/local/lib/python3.12/dist-packages (from gradio_client->datenollm==0.0.1) (0.28.1)\n",
            "Requirement already satisfied: huggingface-hub>=0.19.3 in /usr/local/lib/python3.12/dist-packages (from gradio_client->datenollm==0.0.1) (0.34.4)\n",
            "Requirement already satisfied: packaging in /usr/local/lib/python3.12/dist-packages (from gradio_client->datenollm==0.0.1) (25.0)\n",
            "Requirement already satisfied: websockets<16.0,>=10.0 in /usr/local/lib/python3.12/dist-packages (from gradio_client->datenollm==0.0.1) (15.0.1)\n",
            "Requirement already satisfied: anyio in /usr/local/lib/python3.12/dist-packages (from httpx>=0.24.1->gradio_client->datenollm==0.0.1) (4.10.0)\n",
            "Requirement already satisfied: certifi in /usr/local/lib/python3.12/dist-packages (from httpx>=0.24.1->gradio_client->datenollm==0.0.1) (2025.8.3)\n",
            "Requirement already satisfied: httpcore==1.* in /usr/local/lib/python3.12/dist-packages (from httpx>=0.24.1->gradio_client->datenollm==0.0.1) (1.0.9)\n",
            "Requirement already satisfied: idna in /usr/local/lib/python3.12/dist-packages (from httpx>=0.24.1->gradio_client->datenollm==0.0.1) (3.10)\n",
            "Requirement already satisfied: h11>=0.16 in /usr/local/lib/python3.12/dist-packages (from httpcore==1.*->httpx>=0.24.1->gradio_client->datenollm==0.0.1) (0.16.0)\n",
            "Requirement already satisfied: filelock in /usr/local/lib/python3.12/dist-packages (from huggingface-hub>=0.19.3->gradio_client->datenollm==0.0.1) (3.19.1)\n",
            "Requirement already satisfied: pyyaml>=5.1 in /usr/local/lib/python3.12/dist-packages (from huggingface-hub>=0.19.3->gradio_client->datenollm==0.0.1) (6.0.2)\n",
            "Requirement already satisfied: requests in /usr/local/lib/python3.12/dist-packages (from huggingface-hub>=0.19.3->gradio_client->datenollm==0.0.1) (2.32.4)\n",
            "Requirement already satisfied: tqdm>=4.42.1 in /usr/local/lib/python3.12/dist-packages (from huggingface-hub>=0.19.3->gradio_client->datenollm==0.0.1) (4.67.1)\n",
            "Requirement already satisfied: hf-xet<2.0.0,>=1.1.3 in /usr/local/lib/python3.12/dist-packages (from huggingface-hub>=0.19.3->gradio_client->datenollm==0.0.1) (1.1.9)\n",
            "Requirement already satisfied: googleapis-common-protos~=1.52 in /usr/local/lib/python3.12/dist-packages (from opentelemetry-exporter-otlp-proto-http<1.37.0,>=1.21.0->logfire>=3.24.2->datenollm==0.0.1) (1.70.0)\n",
            "Requirement already satisfied: opentelemetry-api~=1.15 in /usr/local/lib/python3.12/dist-packages (from opentelemetry-exporter-otlp-proto-http<1.37.0,>=1.21.0->logfire>=3.24.2->datenollm==0.0.1) (1.36.0)\n",
            "Collecting opentelemetry-exporter-otlp-proto-common==1.36.0 (from opentelemetry-exporter-otlp-proto-http<1.37.0,>=1.21.0->logfire>=3.24.2->datenollm==0.0.1)\n",
            "  Downloading opentelemetry_exporter_otlp_proto_common-1.36.0-py3-none-any.whl.metadata (1.8 kB)\n",
            "Collecting opentelemetry-proto==1.36.0 (from opentelemetry-exporter-otlp-proto-http<1.37.0,>=1.21.0->logfire>=3.24.2->datenollm==0.0.1)\n",
            "  Downloading opentelemetry_proto-1.36.0-py3-none-any.whl.metadata (2.3 kB)\n",
            "Requirement already satisfied: opentelemetry-semantic-conventions==0.57b0 in /usr/local/lib/python3.12/dist-packages (from opentelemetry-instrumentation>=0.41b0->logfire>=3.24.2->datenollm==0.0.1) (0.57b0)\n",
            "Requirement already satisfied: wrapt<2.0.0,>=1.0.0 in /usr/local/lib/python3.12/dist-packages (from opentelemetry-instrumentation>=0.41b0->logfire>=3.24.2->datenollm==0.0.1) (1.17.3)\n",
            "Requirement already satisfied: importlib-metadata<8.8.0,>=6.0 in /usr/local/lib/python3.12/dist-packages (from opentelemetry-api~=1.15->opentelemetry-exporter-otlp-proto-http<1.37.0,>=1.21.0->logfire>=3.24.2->datenollm==0.0.1) (8.7.0)\n",
            "Requirement already satisfied: markdown-it-py>=2.2.0 in /usr/local/lib/python3.12/dist-packages (from rich>=13.4.2->logfire>=3.24.2->datenollm==0.0.1) (4.0.0)\n",
            "Requirement already satisfied: pygments<3.0.0,>=2.13.0 in /usr/local/lib/python3.12/dist-packages (from rich>=13.4.2->logfire>=3.24.2->datenollm==0.0.1) (2.19.2)\n",
            "Requirement already satisfied: mdurl~=0.1 in /usr/local/lib/python3.12/dist-packages (from markdown-it-py>=2.2.0->rich>=13.4.2->logfire>=3.24.2->datenollm==0.0.1) (0.1.2)\n",
            "Requirement already satisfied: charset_normalizer<4,>=2 in /usr/local/lib/python3.12/dist-packages (from requests->huggingface-hub>=0.19.3->gradio_client->datenollm==0.0.1) (3.4.3)\n",
            "Requirement already satisfied: urllib3<3,>=1.21.1 in /usr/local/lib/python3.12/dist-packages (from requests->huggingface-hub>=0.19.3->gradio_client->datenollm==0.0.1) (2.5.0)\n",
            "Requirement already satisfied: sniffio>=1.1 in /usr/local/lib/python3.12/dist-packages (from anyio->httpx>=0.24.1->gradio_client->datenollm==0.0.1) (1.3.1)\n",
            "Requirement already satisfied: zipp>=3.20 in /usr/local/lib/python3.12/dist-packages (from importlib-metadata<8.8.0,>=6.0->opentelemetry-api~=1.15->opentelemetry-exporter-otlp-proto-http<1.37.0,>=1.21.0->logfire>=3.24.2->datenollm==0.0.1) (3.23.0)\n",
            "Downloading logfire-4.4.0-py3-none-any.whl (219 kB)\n",
            "\u001b[2K   \u001b[90m━━━━━━━━━━━━━━━━━━━━━━━━━━━━━━━━━━━━━━━━\u001b[0m \u001b[32m219.1/219.1 kB\u001b[0m \u001b[31m9.8 MB/s\u001b[0m eta \u001b[36m0:00:00\u001b[0m\n",
            "\u001b[?25hDownloading executing-2.2.1-py2.py3-none-any.whl (28 kB)\n",
            "Downloading opentelemetry_exporter_otlp_proto_http-1.36.0-py3-none-any.whl (18 kB)\n",
            "Downloading opentelemetry_exporter_otlp_proto_common-1.36.0-py3-none-any.whl (18 kB)\n",
            "Downloading opentelemetry_proto-1.36.0-py3-none-any.whl (72 kB)\n",
            "\u001b[2K   \u001b[90m━━━━━━━━━━━━━━━━━━━━━━━━━━━━━━━━━━━━━━━━\u001b[0m \u001b[32m72.5/72.5 kB\u001b[0m \u001b[31m5.9 MB/s\u001b[0m eta \u001b[36m0:00:00\u001b[0m\n",
            "\u001b[?25hDownloading opentelemetry_instrumentation-0.57b0-py3-none-any.whl (32 kB)\n",
            "Building wheels for collected packages: datenollm\n",
            "  Building wheel for datenollm (pyproject.toml) ... \u001b[?25l\u001b[?25hdone\n",
            "  Created wheel for datenollm: filename=datenollm-0.0.1-py3-none-any.whl size=27078 sha256=49075aca4ee59d021f3ed5bcc207f19175a984f6fa92fdab532d71a91ebf8062\n",
            "  Stored in directory: /tmp/pip-ephem-wheel-cache-fjiksotl/wheels/e0/df/dd/8a6b3b355ce7d5a74ee77bb4f2ae23d95df4edbca4ca18871c\n",
            "Successfully built datenollm\n",
            "Installing collected packages: opentelemetry-proto, executing, opentelemetry-exporter-otlp-proto-common, opentelemetry-instrumentation, opentelemetry-exporter-otlp-proto-http, logfire, datenollm\n",
            "Successfully installed datenollm-0.0.1 executing-2.2.1 logfire-4.4.0 opentelemetry-exporter-otlp-proto-common-1.36.0 opentelemetry-exporter-otlp-proto-http-1.36.0 opentelemetry-instrumentation-0.57b0 opentelemetry-proto-1.36.0\n"
          ]
        }
      ]
    },
    {
      "cell_type": "markdown",
      "source": [
        "Проверим есть ли у нас доступ Google Disk'у. Если его нет, то последует запрос на выдачу разрешений для доступа к Google Account'у.\n",
        "\n",
        "Google запросит очень много разрешений. Однако, если выставить только разрешение на доступ к файлам и каталогам, то подключения к Google Disk не происходит.\n",
        "\n",
        "По умолчанию для сохранения в файлах истории и контекста мы используем только каталог /content/drive/MyDrive/colab_data/dateno/, ну или каталог указанный в переменной среды окружения `DRIVE_PATH`, ничего больше. См. https://github.com/datenoio/datenollm/blob/main/datenollm/file_utils.py\n",
        "\n",
        "Если условие предоставления доступа к данным на персональном Google Disk'е является критическим, можно порекомендовать запускать данный Google Collab notebook на другом аккаунте Google, где важных данных нет."
      ],
      "metadata": {
        "id": "o3A-2pfBqmIT"
      }
    },
    {
      "cell_type": "code",
      "source": [
        "from google.colab import drive\n",
        "\n",
        "drive.mount('/content/drive')"
      ],
      "metadata": {
        "colab": {
          "base_uri": "https://localhost:8080/"
        },
        "id": "XEu94HDKqopE",
        "outputId": "6f83bd88-0295-491a-9654-01029d6ea95a"
      },
      "execution_count": null,
      "outputs": [
        {
          "output_type": "stream",
          "name": "stdout",
          "text": [
            "Mounted at /content/drive\n"
          ]
        }
      ]
    },
    {
      "cell_type": "markdown",
      "source": [
        "После предоставления доступа проверяем есть ли каталог /content/drive/MyDrive/colab_data/dateno/, если нет -- он будет создан. Для чистоты эксперимента можно удалить файлы которые имеются в данном каталоге или перенести их в другой каталог."
      ],
      "metadata": {
        "id": "Bd9eb0KyuokB"
      }
    },
    {
      "cell_type": "code",
      "source": [
        "from datenollm.jupiter_nb import get_full_path\n",
        "\n",
        "get_full_path('')"
      ],
      "metadata": {
        "colab": {
          "base_uri": "https://localhost:8080/",
          "height": 38
        },
        "id": "9DJL6wVbufGN",
        "outputId": "9e4819d4-b0f0-4cf9-f7cc-4bb863dfcd51"
      },
      "execution_count": null,
      "outputs": [
        {
          "output_type": "execute_result",
          "data": {
            "text/plain": [
              "'/content/drive/MyDrive/colab_data/dateno/'"
            ],
            "application/vnd.google.colaboratory.intrinsic+json": {
              "type": "string"
            }
          },
          "metadata": {},
          "execution_count": 4
        }
      ]
    },
    {
      "cell_type": "markdown",
      "source": [
        "### Запрос к LLM-агенту Query Assistant"
      ],
      "metadata": {
        "id": "9P3aSLv1rMtj"
      }
    },
    {
      "cell_type": "markdown",
      "source": [
        "Импортируем то что понадобится:"
      ],
      "metadata": {
        "id": "L0SJIN6EC3Kv"
      }
    },
    {
      "cell_type": "code",
      "source": [
        "import json\n",
        "from datenollm.client import DatenoClient\n",
        "from datenollm.jupiter_nb import ask_llm, QueryAssistantChatWidget, QueriesSelector"
      ],
      "metadata": {
        "id": "8-X73wX5IMb8"
      },
      "execution_count": null,
      "outputs": []
    },
    {
      "cell_type": "markdown",
      "source": [
        "Стартуем клиент для доступа к HF Space, где работает нужный нам LLM-агент. М.б. придется позапускать несколько раз если будут ошибки -- HF Space засыпает если долго не использовался и запускается опять при обращении к нему. При таком раскладе -- заводиться может пинка с третьего."
      ],
      "metadata": {
        "id": "vwk1nE7mH898"
      }
    },
    {
      "cell_type": "code",
      "source": [
        "step1_agent = DatenoClient('datenoio/explainable-query-assistant', hf_token=HF_TOKEN)"
      ],
      "metadata": {
        "colab": {
          "base_uri": "https://localhost:8080/"
        },
        "id": "q4SiftZDIkPq",
        "outputId": "c59b8bde-e9da-4123-ebb7-c80663126f89"
      },
      "execution_count": null,
      "outputs": [
        {
          "output_type": "stream",
          "name": "stdout",
          "text": [
            "Loaded as API: https://datenoio-explainable-query-assistant.hf.space ✔\n"
          ]
        }
      ]
    },
    {
      "cell_type": "markdown",
      "source": [
        "Используем специализированный набор запросов Chain of Tought (CoT) для формирования методики и выбора наборов данных. Если глубокий анализ не нужен, переходим сразу к [запросу](#scrollTo=Y5xsUVNKIusc&line=1&uniqifier=1)."
      ],
      "metadata": {
        "id": "peSYCazwsd4-"
      }
    },
    {
      "cell_type": "code",
      "source": [
        "# @title Задайте вопрос:\n",
        "query = \"the trade turnover between Armenia and Cyprus\" # @param {\"type\":\"string\",\"placeholder\":\"Your query\"}\n",
        "history_file = \"history.json\"  # @param {\"type\":\"string\",\"placeholder\":\"File for saving history\"}\n",
        "\n",
        "if not query:\n",
        "  raise ValueError('Query is empty')\n",
        "\n",
        "main_query = query"
      ],
      "metadata": {
        "id": "Tl3INkD7F8ru",
        "cellView": "form"
      },
      "execution_count": null,
      "outputs": []
    },
    {
      "cell_type": "code",
      "source": [
        "# @title Запустить CoT\n",
        "\n",
        "# Отправить 1-ый CoT запрос к LLM:\n",
        "\n",
        "if not main_query:\n",
        "  raise ValueError('Query is empty')\n",
        "\n",
        "queries = []\n",
        "\n",
        "llm_query = f\"\"\"\n",
        "I want to analyze the query:\n",
        "{main_query}\n",
        "\n",
        "As a professional economic analyst, tell me what methodological approaches are optimal for this?\n",
        "\"\"\"\n",
        "\n",
        "print('CoT step 1')\n",
        "query, llm_response, history, error = ask_llm(step1_agent, llm_query, history_file=history_file)\n",
        "queries.append(query)\n",
        "rating_widget = QueryAssistantChatWidget(step1_agent, history_file)\n",
        "display(rating_widget.display())\n",
        "\n",
        "# Отправить 2-ой CoT запрос к LLM\n",
        "\n",
        "if not main_query:\n",
        "  raise ValueError('Query is empty')\n",
        "\n",
        "llm_query = f\"\"\"\n",
        "Divide these methods into those that require a high level of expertise and special knowledge, and those that are based directly on data analysis.\n",
        "\"\"\"\n",
        "\n",
        "print('CoT step 2')\n",
        "query, llm_response, history, error = ask_llm(step1_agent, llm_query, history_file=history_file)\n",
        "queries.append(query)\n",
        "rating_widget = QueryAssistantChatWidget(step1_agent, history_file)\n",
        "display(rating_widget.display())\n",
        "\n",
        "# Отправить 3-ий CoT запрос к LLM\n",
        "\n",
        "if not main_query:\n",
        "  raise ValueError('Query is empty')\n",
        "\n",
        "llm_query = f\"\"\"\n",
        "For Data Analysis methods, list the required indicators and possible names of the corresponding data sets.\n",
        "\"\"\"\n",
        "\n",
        "print('CoT step 3')\n",
        "query, llm_response, history, error = ask_llm(step1_agent, llm_query, history_file=history_file)\n",
        "queries.append(query)\n",
        "rating_widget = QueryAssistantChatWidget(step1_agent, history_file)\n",
        "display(rating_widget.display())\n",
        "\n",
        "# 4-ый CoT запрос к LLM -- проверка:\n",
        "\n",
        "if not main_query:\n",
        "  raise ValueError('Query is empty')\n",
        "\n",
        "llm_query = f\"\"\"\n",
        "Review the proposed indicators and data sets for the original query:\n",
        "{main_query}\n",
        "\n",
        "Provide a revised list of queries.\n",
        "\"\"\"\n",
        "\n",
        "print('CoT step 4')\n",
        "query, llm_response, history, error = ask_llm(step1_agent, llm_query, history_file=history_file)\n",
        "queries.append(query)\n",
        "rating_widget = QueryAssistantChatWidget(step1_agent, history_file)\n",
        "display(rating_widget.display())"
      ],
      "metadata": {
        "colab": {
          "base_uri": "https://localhost:8080/",
          "height": 1000,
          "referenced_widgets": [
            "9d581ddac1f94ef891a35a8a4bd5ac61",
            "74dc8fd6d52445fcb1568818627952e6",
            "34ea39ae2ada4ce5bfafe04739b6c40b",
            "da9578dc563741508cec120e7c8b49b6",
            "ed1641bac287427ca86e2da5beb83bcf",
            "50693655488c47108c39b57dee113684",
            "ec1c8d6622894c6d9173b4315831c06c",
            "b51ec05747e449daaf7dca7e4667b265",
            "1fd9e5de86ab4ddcb35172981befec27",
            "1235799b9a124893befe762e0ee0f00f",
            "8dc6111d23ed477796916d2b602ec0dd",
            "d0abf0afdda34acb949f25348cb09960",
            "136e0737b3c04df7985ff4add2fa9a16",
            "afede706983b47fabadb100a87e224ee",
            "964092551c524360964a5b103ac2741d",
            "4e49149d34db42ecba86ff8ce11323ab",
            "46be2625750b47a2b15b5301a105cec2",
            "abfe7315d86a4992a6a98b53d44470b6",
            "2cf92f4e23774911a7ce53b69ef28d4b",
            "1a360f4347c2412185be364249711817",
            "a41f8a25d8574b3d8cd6e3110934a0e5",
            "50a392a7c991473098dd532beb44597b",
            "db514621f2e94afb89cd6edccf838dad",
            "6268b092c53e455880eca6bfac44a645",
            "9c55c9d52016477794d8c9ff932b7b0e",
            "13cdfadbceae4b1cbed771cadc6d30d2",
            "f5d13fe1db0947a19ea13115acf9ffdb",
            "788af36632e742d9b280826125b94ef3",
            "7f935047ebc94ad0b1a96c8d55ae000f",
            "f5e23c8f69224b16a3bb0329559538c7",
            "216aa236a90a4e1281662f0d76b4bd58",
            "d4b239dd956849a78efb3bcfd35d1330",
            "9a3a7d36a7794b7b81762e65fef5188f",
            "f5b5185d02104b6c85fdbabebd9486c0",
            "1ad364d62b0745b7b1674af054a6211c",
            "ed2bc0257c2f4226b89f1257a05f5549",
            "7c3f44c935c2492bac80a1784048a64b",
            "74da51227d3f4c19ba2bb74d19246e52",
            "57875b63457d41d48d76d8365e3e3520",
            "8e49cb8050b549caac845934907fdf3f",
            "b0bc5b8264c842e0a518353ffbc3ce72",
            "b49893776bb2498bbf71afa57b8b597e",
            "a28b64c679de41bba37bb5accea6d03e",
            "2e7334fe46544693857f3a95522051b9",
            "91ff5846063540b9bb6481997c8060db",
            "4c690a40b9214e34b1a62bcfa5da3e93",
            "cad60b70d95c4f4f972d5befdc8ae21b",
            "44b265c450d6465e8645aa030f76f281",
            "f4e62fb403634b3490aaeb50086a4f24",
            "970ce0395db5463288b451672c93a43a",
            "29d82757505a42bf802fffa276bc8558",
            "aafdcadb40ad4463a41498783b43edaa",
            "a722170fbc8f446b9ef6dd2d00dd7e3f",
            "cacf8ab691254386bd9b8608e3225af8",
            "f4b08139e1ee49ab845f693fc4db36bc",
            "8b4259a2b68b401e8d5e8799c2e4670e",
            "cacc3148e6db44b9854575057521a1a5",
            "9d54e8e6fcad4d5c910a79b6455c3ab8",
            "c8c769150bfe4db6b14340c1a93b5e15",
            "0aa83429ad5d4a48accf4b09182204af",
            "1720869827e642b7a773d8e7083ecd01",
            "e34b6c6e999442c2a972f8a6d153284b",
            "e7300a8678db49cfacea26efd04fed30",
            "36b8af50527c4c5c982acfa47f714609"
          ]
        },
        "id": "xPkhotyJFe7f",
        "outputId": "28274586-c327-4181-f614-c7863e7985eb",
        "cellView": "form"
      },
      "execution_count": null,
      "outputs": [
        {
          "output_type": "stream",
          "name": "stdout",
          "text": [
            "CoT step 1\n",
            "history_file='/content/drive/MyDrive/colab_data/dateno/history.json'\n"
          ]
        },
        {
          "output_type": "display_data",
          "data": {
            "text/plain": [
              "VBox(children=(HTML(value='===============================================<br><strong>Query:</strong> <strong>…"
            ],
            "application/vnd.jupyter.widget-view+json": {
              "version_major": 2,
              "version_minor": 0,
              "model_id": "9d581ddac1f94ef891a35a8a4bd5ac61"
            }
          },
          "metadata": {}
        },
        {
          "output_type": "stream",
          "name": "stdout",
          "text": [
            "CoT step 2\n",
            "history_file='/content/drive/MyDrive/colab_data/dateno/history.json'\n"
          ]
        },
        {
          "output_type": "display_data",
          "data": {
            "text/plain": [
              "VBox(children=(HTML(value='===============================================<br><strong>Query:</strong> <strong>…"
            ],
            "application/vnd.jupyter.widget-view+json": {
              "version_major": 2,
              "version_minor": 0,
              "model_id": "46be2625750b47a2b15b5301a105cec2"
            }
          },
          "metadata": {}
        },
        {
          "output_type": "stream",
          "name": "stdout",
          "text": [
            "CoT step 3\n",
            "history_file='/content/drive/MyDrive/colab_data/dateno/history.json'\n"
          ]
        },
        {
          "output_type": "display_data",
          "data": {
            "text/plain": [
              "VBox(children=(HTML(value='===============================================<br><strong>Query:</strong> <strong>…"
            ],
            "application/vnd.jupyter.widget-view+json": {
              "version_major": 2,
              "version_minor": 0,
              "model_id": "9a3a7d36a7794b7b81762e65fef5188f"
            }
          },
          "metadata": {}
        },
        {
          "output_type": "stream",
          "name": "stdout",
          "text": [
            "CoT step 4\n",
            "history_file='/content/drive/MyDrive/colab_data/dateno/history.json'\n"
          ]
        },
        {
          "output_type": "display_data",
          "data": {
            "text/plain": [
              "VBox(children=(HTML(value='===============================================<br><strong>Query:</strong> <strong>…"
            ],
            "application/vnd.jupyter.widget-view+json": {
              "version_major": 2,
              "version_minor": 0,
              "model_id": "f4e62fb403634b3490aaeb50086a4f24"
            }
          },
          "metadata": {}
        }
      ]
    },
    {
      "cell_type": "code",
      "source": [
        "# @title Ну и дальше общаемся с LLM как обычно:\n",
        "query = \"for last 2 years\" # @param {\"type\":\"string\",\"placeholder\":\"Your query\"}\n",
        "\n",
        "if not query:\n",
        "  raise ValueError('Query is empty')\n",
        "\n",
        "query, llm_response, history, error = ask_llm(step1_agent, query, history_file=history_file)\n",
        "queries.append(query)\n",
        "rating_widget = QueryAssistantChatWidget(step1_agent, history_file)\n",
        "display(rating_widget.display())"
      ],
      "metadata": {
        "colab": {
          "base_uri": "https://localhost:8080/",
          "height": 716,
          "referenced_widgets": [
            "0b6027fd2ed94b99bd151fed48414899",
            "6db5d28d77d54159870a87be3779617f",
            "d6ffac07e49244969d64c40185a87a62",
            "ba26dcf3aba84c388ae8710a892a26d8",
            "e5564198033f443389cbe4f566255c9d",
            "61064baef19a4e2c92bef019722feb32",
            "d2608277fece4cca9267fc00ee4b8ccd",
            "1ad4fbd5f69e4ce7b3556703b1957935",
            "3858fb53ad5348388d38b9158936451b",
            "543a43d8093441c292deb0ac5514d5d4",
            "a259529fb7d3432d88871b15ceb070b5",
            "adffb79097b145749fb015a96be8d1a4",
            "702826c1fde34835a1010d449b540e23",
            "e328de3b3df240f68b408ae053a58adc",
            "31b4a920fd0c4243b4e1f75f0cd19023",
            "942c46a0f22e4cb58ab9887a494f79b5"
          ]
        },
        "id": "Y5xsUVNKIusc",
        "outputId": "2dccc21a-892f-47de-b482-7e9a3191f91e",
        "cellView": "form"
      },
      "execution_count": null,
      "outputs": [
        {
          "output_type": "stream",
          "name": "stdout",
          "text": [
            "history_file='/content/drive/MyDrive/colab_data/dateno/history.json'\n"
          ]
        },
        {
          "output_type": "display_data",
          "data": {
            "text/plain": [
              "VBox(children=(HTML(value='===============================================<br><strong>Query:</strong> <strong>…"
            ],
            "application/vnd.jupyter.widget-view+json": {
              "version_major": 2,
              "version_minor": 0,
              "model_id": "0b6027fd2ed94b99bd151fed48414899"
            }
          },
          "metadata": {}
        }
      ]
    },
    {
      "cell_type": "markdown",
      "source": [
        "### Выбор запросов для следующего этапа workflow"
      ],
      "metadata": {
        "id": "AKhOC8dupd6h"
      }
    },
    {
      "cell_type": "markdown",
      "source": [
        "Тут можем выбрать набор запросов который будет передан на следующий этап workflow. Список для выбора будет формироваться из того набора запросов который вы сформировали последним -- CoT или обычный запрос к LLM."
      ],
      "metadata": {
        "id": "FDPMl_MgspsO"
      }
    },
    {
      "cell_type": "code",
      "source": [
        "# @title Выберите запросы:\n",
        "llm_response = json.loads(llm_response)\n",
        "step1_selector = QueriesSelector(llm_response['queries'])\n",
        "display(step1_selector)"
      ],
      "metadata": {
        "colab": {
          "base_uri": "https://localhost:8080/",
          "height": 492,
          "referenced_widgets": [
            "b1c0c40dc8654fc3aa17913b91fe8502",
            "66190a223cef42d492418caf23068c3c",
            "c121ee519d8f45178d78826c769ab04d",
            "8205a3a8199c46669a3a18d3b2ce5d03",
            "b79bc53ae8494e259ad4600256ca667b",
            "15270808050e4587b3e28e0fea31b147",
            "babd5d3b59a446cf825be87011c6f5c6",
            "9b2a68b17c9740dfa3c2bd68d199e6c7",
            "ea47fad5afbe4bca83bb3e85d132128c",
            "5db3bb39e38b4944894cbf9d2825871a",
            "92ee359c15e8411e87f956621261bd8d",
            "2f0bf659f2c64bf2b4c5041757042f20",
            "2be69c0913164511bd3c6b221845ce5b",
            "e9082d9248af4881b83def5b77c76b72",
            "de79a77da0a442b69163424b7bcdb1e9",
            "2f1fbafd64184a28b1e3abf476aa9583",
            "4fafe8a207f2431981a2ea2525365f7d",
            "eab13785032b40cb8a6c24871ada9fa8",
            "d8c038125d334f82b5f6b6061330b981",
            "fe539a2172f446a1a86a230c962b7b15",
            "b5deef3727554559b6b57d2bb64ce4b6",
            "7d2c2c5140364df283c22f5e12846c19",
            "df11bb2eecb1441f82bf30b1647d833c",
            "13410a872a5d4ad3918739d650077f4c",
            "e84d55bfe49045b5bf87d9ecc7d2868b",
            "a659e51c96024c82b468d933cb9544e8",
            "cfdaaecdfaf249039a0ade8bed59e679",
            "af9cb72eaad544119110c53d4d767240",
            "ee40b1af4c4442cbae14706ec3daafe0",
            "589413863ca14a038e846cfc43f79281",
            "b042dbc9cb314ba5af5870e74cf2e572",
            "f094cfc276e04a94aaba9859927f2e88",
            "3d2f1e4a7bab4107a56e781b46fe071a",
            "14e348aec3774edfae3c35d13d7ed494",
            "b89576d9d0ba4b2088b3564bce4750ba",
            "043cce56f66b4c0c9e2471c36b34f2c2",
            "abe4076884dd44e3a180424eb557b11d",
            "d5fc1a7c4449430781fe5dbebca817e2",
            "14a49f311a8d42be85f05e997ecc1833",
            "6302df7fc2594f1d9bbf331279cfb214"
          ]
        },
        "id": "ox2deAPs5D--",
        "outputId": "3cfcb7bc-455a-4d3c-a358-f1fb79f871fa",
        "cellView": "form"
      },
      "execution_count": null,
      "outputs": [
        {
          "output_type": "display_data",
          "data": {
            "text/plain": [
              "QueriesSelector(children=(Button(description='Select All', style=ButtonStyle()), Button(description='Select No…"
            ],
            "application/vnd.jupyter.widget-view+json": {
              "version_major": 2,
              "version_minor": 0,
              "model_id": "b1c0c40dc8654fc3aa17913b91fe8502"
            }
          },
          "metadata": {}
        }
      ]
    },
    {
      "cell_type": "markdown",
      "source": [
        "Сохраняем выбранное в файле для передачи на следующий этап workflow:"
      ],
      "metadata": {
        "id": "TfCUFeqbp8Uk"
      }
    },
    {
      "cell_type": "code",
      "source": [
        "# @title Сохраняем запросы для этапа поиска\n",
        "file = 'workflow_step1.json' # @param {\"type\":\"string\",\"placeholder\":\"File to save the state of step 1\"}\n",
        "\n",
        "selected = step1_selector.get_selected_queries()\n",
        "step1 = {'queries': queries, 'selected': selected}\n",
        "\n",
        "with open(get_full_path(file), \"w\") as f:\n",
        "  json.dump(step1, f)"
      ],
      "metadata": {
        "cellView": "form",
        "id": "NF68YqMyrQP4"
      },
      "execution_count": null,
      "outputs": []
    },
    {
      "cell_type": "markdown",
      "source": [
        "## Второй этап workflow -- Dateno Search LLM-агент"
      ],
      "metadata": {
        "id": "nzbu6iNKnqt3"
      }
    },
    {
      "cell_type": "markdown",
      "source": [
        "LLM-агент Dateno Search преобразует запросы произвольной формы в поисковые запросы к базе датасетов через Dateno API."
      ],
      "metadata": {
        "id": "-q50ZX3d-Jv0"
      }
    },
    {
      "cell_type": "markdown",
      "source": [
        "Импортируем то что понадобится:"
      ],
      "metadata": {
        "id": "Oq66Ilj9-SGe"
      }
    },
    {
      "cell_type": "code",
      "source": [
        "import json\n",
        "\n",
        "from datenollm.client import DatenoClient\n",
        "from datenollm.jupiter_nb import (\n",
        "    ChatWidget, DatenoSearchChatWidget, DatenoSearchQuerySelector,\n",
        "    ask_llm, display_table, dateno2df, create_dateno_search_selector,\n",
        "    ask_llm_and_create_selector, get_full_path,\n",
        "    QueriesSelector, QuerySelector,\n",
        "    )"
      ],
      "metadata": {
        "id": "mnw3Itls-UU_"
      },
      "execution_count": null,
      "outputs": []
    },
    {
      "cell_type": "markdown",
      "source": [
        "Стартуем клиент для доступа к HF Space. **М.б. придется позапускать несколько раз если будут ошибки** -- HF Space засыпает если долго не использовался и запускается опять при обращении к нему. При таком раскладе -- заводится пинка с третьего."
      ],
      "metadata": {
        "id": "9YVf15Mc-btX"
      }
    },
    {
      "cell_type": "code",
      "source": [
        "step2_agent = DatenoClient('datenoio/dateno-search', hf_token=HF_TOKEN)"
      ],
      "metadata": {
        "colab": {
          "base_uri": "https://localhost:8080/"
        },
        "id": "VAQQ-EzFT_g3",
        "outputId": "7f763ded-bb4d-41db-da44-348fa26784cd"
      },
      "execution_count": null,
      "outputs": [
        {
          "output_type": "stream",
          "name": "stdout",
          "text": [
            "Loaded as API: https://datenoio-dateno-search.hf.space ✔\n"
          ]
        }
      ]
    },
    {
      "cell_type": "markdown",
      "source": [
        "### Передача запросов составленных LLM-агентом Query Assistant в Dateno Search"
      ],
      "metadata": {
        "id": "IzkYT2RcUA_l"
      }
    },
    {
      "cell_type": "code",
      "source": [
        "# @title Считываем запросы сгенерированные Query Assitant'ом на предыдущем шаге:\n",
        "file = 'workflow_step1.json' # @param {\"type\":\"string\",\"placeholder\":\"File with saved state of step 1\"}\n",
        "\n",
        "with open(get_full_path(file), 'r') as f:\n",
        "    step1 = json.load(f)\n",
        "\n",
        "step1_queries = step1['queries']\n",
        "queries = step1_queries"
      ],
      "metadata": {
        "cellView": "form",
        "id": "G8KTSPgZUP1Z"
      },
      "execution_count": null,
      "outputs": []
    },
    {
      "cell_type": "code",
      "source": [
        "# @title Определяем функцию-обработчик.\n",
        "def dateno_search(selected_query, context_file=None, history_file=None):\n",
        "  global queries, step2_selector\n",
        "  queries = step1_queries\n",
        "  query = selected_query[0]['query']\n",
        "  print(f'Query for Dateno search LLM-agent: \"{query}\"')\n",
        "  query_text, result_json, history, error = ask_llm(step2_agent, query)\n",
        "\n",
        "  if error:\n",
        "    raise ValueError(f\"Error: {error}\")\n",
        "\n",
        "  queries.append(query_text)\n",
        "  response = json.loads(result_json)\n",
        "  query_text, result_json, history, error = ask_llm(step2_agent, query, context_file=context_file, history_file=history_file)\n",
        "\n",
        "  if error:\n",
        "    raise ValueError(f\"Error: {error}\")\n",
        "\n",
        "  print(f'Query for Dateno search LLM-agent: \"{query_text}\"')\n",
        "  queries.append(query_text)\n",
        "  step2_selector = DatenoSearchQuerySelector(step2_agent, response['queries'])\n",
        "\n",
        "  step2_selector.display()"
      ],
      "metadata": {
        "cellView": "form",
        "id": "8Hb1G6yeUXHC"
      },
      "execution_count": null,
      "outputs": []
    },
    {
      "cell_type": "markdown",
      "source": [
        "Далее выбираем запрос из набора сформированного на первом этапе и формируем поисковый запрос к Dateno. Если надо выбрать другой запрос или повторить прежний -- надо будет перезапустить эту ячейку заново."
      ],
      "metadata": {
        "id": "Y1YZD-NujbUV"
      }
    },
    {
      "cell_type": "code",
      "source": [
        "# @title Выбираем запрос и отправляем его в Dateno Search:\n",
        "queries = []\n",
        "\n",
        "step1_selector = QuerySelector(queries_data=step1['selected'], execute_func=dateno_search)\n",
        "step1_selector.display()"
      ],
      "metadata": {
        "colab": {
          "base_uri": "https://localhost:8080/",
          "height": 1000,
          "referenced_widgets": [
            "64adf4434dda4bc5ae21307a4decc2df",
            "f222e94aebf04fa4bc10e2bf82791439",
            "5610bc5873514664b21588290c1ab844",
            "856ad920bc664c1d901b0d777907a1e1",
            "0227efcb4afc42a08c499bf059a40829",
            "6a17771401ce4392a805a0b3025c436d",
            "e62af7149a494894af367f0a00d5fd9a",
            "2bbd1508595a45a1a53333e2b070f780",
            "4898e1cc4fb1483080dc7ab0d4732a52",
            "9bc3459d7a23414d8a117e969e342f22",
            "75b750a528a34833bf4a982a91f522e3",
            "4f0a5074c7b943649eac894f7a1f2c57",
            "c746e46b6b1a435a8f3b9bdcd5960c02",
            "64a11882e33f4837b17eab1b2c857503",
            "c3774b83c143482bb402d706ec6214c2",
            "a1e5dd69e2ad4fabb7c82d0baeb7e8be",
            "13eaae9c242e4b9fade1c27f51511418",
            "746219d7c95f4198a9f5726c0475870a",
            "464fb4e107994cfea796ebcde574d5ad",
            "d3bd9ce3f81642ebbd201a872b9c1d52",
            "26b5c2e458fc43f9aa5373f25979c47a",
            "2d4de8e527ba4ce9bf4339a5e37ec11c",
            "8bd9949264f34eab85bca696a93b8604",
            "d72b38e50f924f338332d9d4e85450e1",
            "020c49be0cea4ed593b3c870089f3922",
            "3a4fea9aa29a4c889f32f8ba4e9847eb",
            "fbfd7049da1a4d0b839f77d062fd5484",
            "3466e6e448ef4461be270e8a9f9b1bfb",
            "2cf91ff0d22b48cfb387b3e39cbbbb6f",
            "ae45f2faf00b4912b3e978428030a827",
            "8778834ab96a460a82929e63bb5dc6ae",
            "b5aa97860f1d476587ce110e23a2ce4d",
            "3aae0ee0ffdc4cf28a20515f0d0d87ff",
            "ee0c52f705d4481ba55d1009889ecaf4",
            "fc73a4fe919649d9a0c3bb28c2c76b21",
            "17490ffe2b87404ea4941b7cabbc2d78",
            "248cf20b81f44058a1dc95d7505ea356",
            "d97b0b89800447f7bd711debfa130c1c",
            "3a72fb5223d645f4a506aba0b8e24130",
            "b0ff06fd47f14e05b1c095b4ab934afb",
            "76f12c3f90e64877a3075990dd8820c1",
            "86421a3e48b14544a814ceaf48f74aa7",
            "3dde12ee9b6c4484900f602debf12b67",
            "301d66acdcda43e8bdc41ba7d0443774",
            "fcfa98bd69fe408c841886f4d618b5f0",
            "6c68cfa2d75e4b30abf608928f423cd8",
            "2deda1e006ce4f729c697a87378cbffb",
            "00b11ad89f504992b329ea8aa00b4f09",
            "37b6f23c49914b6e861155823f51cc6b",
            "a0ef1551441044c7950b41462b3a0dd4",
            "06b8876c495d40378ea5a3c172e795e3",
            "3e13c98f407a4faf818d3578168fd861"
          ]
        },
        "id": "UFQoGIPoUcHK",
        "outputId": "9146b0a0-c223-4520-d9bc-063bdf229ca4",
        "cellView": "form"
      },
      "execution_count": null,
      "outputs": [
        {
          "output_type": "stream",
          "name": "stdout",
          "text": [
            "===============================================\n"
          ]
        },
        {
          "output_type": "display_data",
          "data": {
            "text/plain": [
              "VBox(children=(HBox(children=(Button(button_style='warning', description='Clear Selection', layout=Layout(marg…"
            ],
            "application/vnd.jupyter.widget-view+json": {
              "version_major": 2,
              "version_minor": 0,
              "model_id": "64adf4434dda4bc5ae21307a4decc2df"
            }
          },
          "metadata": {}
        },
        {
          "output_type": "stream",
          "name": "stdout",
          "text": [
            "Query for Dateno search LLM-agent: \"IMF Direction of Trade Statistics Armenia Cyprus from 2023-09-06 to 2025-09-06\"\n",
            "history_file='/content/drive/MyDrive/colab_data/dateno/history.json'\n",
            "history_file='/content/drive/MyDrive/colab_data/dateno/history.json'\n",
            "Query for Dateno search LLM-agent: \"IMF Direction of Trade Statistics Armenia Cyprus from 2023-09-06 to 2025-09-06\"\n",
            "===============================================\n"
          ]
        },
        {
          "output_type": "display_data",
          "data": {
            "text/plain": [
              "VBox(children=(HBox(children=(Button(button_style='warning', description='Clear Selection', layout=Layout(marg…"
            ],
            "application/vnd.jupyter.widget-view+json": {
              "version_major": 2,
              "version_minor": 0,
              "model_id": "a1e5dd69e2ad4fabb7c82d0baeb7e8be"
            }
          },
          "metadata": {}
        },
        {
          "output_type": "stream",
          "name": "stdout",
          "text": [
            "🔍 Executing search: \"IMF Direction of Trade Statistics from 2023-09-06 to 2025-09-06\" with filters: source.countries.name=Armenia\n",
            "\n",
            "📊 Search Results for query: \"IMF Direction of Trade Statistics from 2023-09-06 to 2025-09-06\" with filters: source.countries.name=Armenia\n",
            "==================================================\n",
            "   Filters: source.countries.name=Armenia\n",
            "   Records found: 500\n"
          ]
        },
        {
          "output_type": "display_data",
          "data": {
            "text/plain": [
              "VBox(children=(HBox(children=(Button(description='← Previous', disabled=True, layout=Layout(width='120px'), st…"
            ],
            "application/vnd.jupyter.widget-view+json": {
              "version_major": 2,
              "version_minor": 0,
              "model_id": "8778834ab96a460a82929e63bb5dc6ae"
            }
          },
          "metadata": {}
        },
        {
          "output_type": "stream",
          "name": "stdout",
          "text": [
            "------------------------------\n"
          ]
        }
      ]
    },
    {
      "cell_type": "code",
      "source": [
        "# @title Сохраняем запросы и результаты поиска для этапа валидации\n",
        "file = 'workflow_step2.json' # @param {\"type\":\"string\",\"placeholder\":\"File to save the state of step 2\"}\n",
        "\n",
        "step2_queries = []\n",
        "\n",
        "# Queries formed in step 1 by the Query Assistant LLM-agent\n",
        "for query in queries:\n",
        "  step2_queries.append({'query': query})\n",
        "\n",
        "# Chosen query from the final queries of step 1\n",
        "selected = step1_selector.get_selected_queries()\n",
        "step2_queries.append(selected[0])\n",
        "\n",
        "# Query for the Dateno Search LLM-agent\n",
        "selected = step2_selector.get_selected_queries()\n",
        "step2_queries.append(selected[0])\n",
        "\n",
        "step2_results = step2_selector.get_query_results()\n",
        "step2_results = step2_results[0]['results']['hits']['hits']\n",
        "step2 = [{'queries': step2_queries, 'results': step2_results},]\n",
        "\n",
        "with open(get_full_path(file), \"w\") as f:\n",
        "  json.dump(step2, f)"
      ],
      "metadata": {
        "cellView": "form",
        "id": "rqLfQ6Q7Ujnh"
      },
      "execution_count": null,
      "outputs": []
    },
    {
      "cell_type": "markdown",
      "source": [
        "## Третий этап -- валидация результатов"
      ],
      "metadata": {
        "id": "0_V5HXIPUJ7j"
      }
    },
    {
      "cell_type": "code",
      "source": [
        "import json\n",
        "from datenollm.client import DatenoFilter\n",
        "from datenollm.jupiter_nb import get_full_path"
      ],
      "metadata": {
        "id": "aEVPkV0XZ8GH"
      },
      "execution_count": null,
      "outputs": []
    },
    {
      "cell_type": "code",
      "source": [
        "step3_agent = DatenoFilter('datenoio/dataset-validator', hf_token=HF_TOKEN)"
      ],
      "metadata": {
        "colab": {
          "base_uri": "https://localhost:8080/"
        },
        "id": "pBQqi2-9ZLbn",
        "outputId": "5dca4401-06a3-47b3-efde-bacd0fdf5995"
      },
      "execution_count": null,
      "outputs": [
        {
          "output_type": "stream",
          "name": "stdout",
          "text": [
            "Loaded as API: https://datenoio-dataset-validator.hf.space ✔\n"
          ]
        }
      ]
    },
    {
      "cell_type": "code",
      "source": [
        "# @title Считываем результаты 2-го этапа -- Dateno Search LLM-агента\n",
        "file = 'workflow_step2.json' # @param {\"type\":\"string\",\"placeholder\":\"File with saved state of step 2\"}\n",
        "\n",
        "with open(get_full_path(file), 'r') as f:\n",
        "    step2 = json.load(f)"
      ],
      "metadata": {
        "cellView": "form",
        "id": "w-LnanLGUr27"
      },
      "execution_count": null,
      "outputs": []
    },
    {
      "cell_type": "code",
      "source": [
        "# @title Отправляем результаты 2-го этапа LLM-агенту валидатору\n",
        "max_requests = 15 # @param {\"type\":\"number\", \"placeholder\":\"Full number of records\"}\n",
        "max_requests_per_call=5 # @param {\"type\":\"number\", \"placeholder\":\"Number of records per agent call\"}\n",
        "#max_tokens=2048 # @param {\"type\":\"number\", \"placeholder\":\"Number of output tokens\"}\n",
        "max_tokens=2048\n",
        "\n",
        "print('Sending data to LLM-agent for validation...')\n",
        "result = step3_agent.filter(messages=[], history=[], data=step2, max_requests=15, max_requests_per_call=5, max_tokens=2048,\n",
        "                       prompt=None, model=None, temperature=None, top_p=None, openai_api_base=None)\n",
        "print('Accepted: {len(result[\"results\"][\"accepted\"])}')\n",
        "print('Declined: {len(result[\"results\"][\"declined\"])}')\n",
        "\n",
        "# Combine search data and validation results\n",
        "data = step3_agent.filter2data(data=step2, combined_output=result)\n",
        "\n",
        "# Show results\n",
        "from IPython.display import display, HTML\n",
        "\n",
        "html = step3_agent.results2html(data=data, verbose=True)\n",
        "display(HTML(html))"
      ],
      "metadata": {
        "colab": {
          "base_uri": "https://localhost:8080/",
          "height": 1000
        },
        "cellView": "form",
        "id": "Ghl8s3c4V5Wk",
        "outputId": "f9188ccc-d755-40d0-ce56-f608c2eb7bdf"
      },
      "execution_count": null,
      "outputs": [
        {
          "output_type": "stream",
          "name": "stdout",
          "text": [
            "Sending data to LLM-agent for validation...\n",
            "Accepted: {len(result[\"results\"][\"accepted\"])}\n",
            "Declined: {len(result[\"results\"][\"declined\"])}\n"
          ]
        },
        {
          "output_type": "display_data",
          "data": {
            "text/plain": [
              "<IPython.core.display.HTML object>"
            ],
            "text/html": [
              "<h2>Request 0:</h2>\n",
              "<h3>Query:</h3> \n",
              "I want to analyze the query:\n",
              "the trade turnover between Armenia and Cyprus\n",
              "\n",
              "As a professional economic analyst, tell me what methodological approaches are optimal for this?\n",
              "<br>\n",
              "<h3>Query:</h3> \n",
              "Divide these methods into those that require a high level of expertise and special knowledge, and those that are based directly on data analysis.\n",
              "<br>\n",
              "<h3>Query:</h3> \n",
              "For Data Analysis methods, list the required indicators and possible names of the corresponding data sets.\n",
              "<br>\n",
              "<h3>Query:</h3> \n",
              "Review the proposed indicators and data sets for the original query:\n",
              "the trade turnover between Armenia and Cyprus\n",
              "\n",
              "Provide a revised list of queries.\n",
              "<br>\n",
              "<h3>Query:</h3> for last 2 years<br>\n",
              "<h3>Query:</h3> trade balance data between Armenia and Cyprus from 2023-09-06 to 2025-09-06<br>\n",
              "<h3>Query:</h3> trade balance data between Armenia and Cyprus from 2023-09-06 to 2025-09-06<br>\n",
              "<h3>Query:</h3> trade balance data between Armenia and Cyprus from 2023-09-06 to 2025-09-06<br>\n",
              "<h3>Query:</h3> trade balance data between Armenia and Cyprus from 2023-09-06 to 2025-09-06<br>\n",
              "<h3>Query:</h3> IMF Direction of Trade Statistics Armenia Cyprus from 2023-09-06 to 2025-09-06<br>\n",
              "<h3>Query:</h3> IMF Direction of Trade Statistics Armenia Cyprus from 2023-09-06 to 2025-09-06<br>\n",
              "<h3>Query:</h3> IMF Direction of Trade Statistics Armenia Cyprus from 2023-09-06 to 2025-09-06<br>\n",
              "<h3>Query:</h3> IMF Direction of Trade Statistics from 2023-09-06 to 2025-09-06<br>\n",
              "<b>Filters:</b><br> source.countries.name=Armenia<br>\n",
              "<br>\n",
              "<h3>Accepted (0):</h3><h3>Declined (15):</h3><ol>\n",
              "<li>\n",
              "<a href=\"https://dateno.io/search/#8eef36e514b28d7581c54886ed43edc0f3aab86771190b0c644ac237b1d9bd9d\">Female share of low pay earners (%) - Armenia</a><br>\n",
              "</li>\n",
              "<b>Explanation:</b><br> Topic mismatch: dataset subject is 'Earnings' not related to trade turnover between Armenia and Cyprus; Geography mismatch: dataset covers Armenia only, no Cyprus; Time mismatch: dataset ends in 2022, before required 2023-09-06 to 2025-09-06 range.<br><b>Validation Steps:</b><br><ol><li>❌ topic:  (Dataset subject 'Earnings' does not match trade turnover)</li><li>❌ geography:  (Dataset covers only Armenia, no Cyprus)</li><li>❌ time:  (Dataset covers 1995–2022, required 2023-09-06 to 2025-09-06)</li><li>✅ language:  (English available)</li><li>✅ structural: </li><li>✅ other_filters: </li></ol>\n",
              "<li>\n",
              "<a href=\"https://dateno.io/search/#bc44bff6b6d25c9b60fb951359dddbeb753c821c99ea25802b52fa44ac43c622\">Composite rate of labour underutilization (LU4) by sex and age (%) - Armenia</a><br>\n",
              "</li>\n",
              "<b>Explanation:</b><br> Topic mismatch: dataset subject is 'Other measures of labour underutilization' not trade turnover; Geography mismatch: dataset covers Armenia only, no Cyprus; No explicit time filter but dataset ends 2024, partially overlaps recent period but no trade data.<br><b>Validation Steps:</b><br><ol><li>❌ topic:  (Dataset subject 'Other measures of labour underutilization' does not match trade turnover)</li><li>❌ geography:  (Dataset covers only Armenia, no Cyprus)</li><li>✅ time:  (Dataset covers 1991–2024, overlaps recent years but irrelevant topic)</li><li>✅ language:  (English available)</li><li>✅ structural: </li><li>✅ other_filters: </li></ol>\n",
              "<li>\n",
              "<a href=\"https://dateno.io/search/#b8c302829c70974be74e7f71fb7c09ee76f7e1c79fac8b553e3c324590632f5f\">Working-age population by sex, age and rural / urban areas (thousands) - Armenia</a><br>\n",
              "</li>\n",
              "<b>Explanation:</b><br> Topic mismatch: dataset subject is 'Population' not related to trade turnover; Geography mismatch: dataset covers Armenia only, no Cyprus; No explicit time filter but dataset ends 2024, overlaps recent years but irrelevant topic.<br><b>Validation Steps:</b><br><ol><li>❌ topic:  (Dataset subject 'Population' does not match trade turnover)</li><li>❌ geography:  (Dataset covers only Armenia, no Cyprus)</li><li>✅ time:  (Dataset covers 1970–2024, overlaps recent years but irrelevant topic)</li><li>✅ language:  (English available)</li><li>✅ structural: </li><li>✅ other_filters: </li></ol>\n",
              "<li>\n",
              "<a href=\"https://dateno.io/search/#1767cfa4a5d6744d55075d8e83f674bf62fd1bb108c6365a639188b1ea5d5365\">Combined rate of time-related underemployment and unemployment (LU2) by sex and age (%) - Armenia</a><br>\n",
              "</li>\n",
              "<b>Explanation:</b><br> Topic mismatch: dataset subject is 'Other measures of labour underutilization' not trade turnover; Geography mismatch: dataset covers Armenia only, no Cyprus; No explicit time filter but dataset ends 2024, overlaps recent years but irrelevant topic.<br><b>Validation Steps:</b><br><ol><li>❌ topic:  (Dataset subject 'Other measures of labour underutilization' does not match trade turnover)</li><li>❌ geography:  (Dataset covers only Armenia, no Cyprus)</li><li>✅ time:  (Dataset covers 1955–2024, overlaps recent years but irrelevant topic)</li><li>✅ language:  (English available)</li><li>✅ structural: </li><li>✅ other_filters: </li></ol>\n",
              "<li>\n",
              "<a href=\"https://dateno.io/search/#054f22d9113887fab16755b2d4a6f4caad79a7aacc5d7764ef767d0b16d53a0d\">Working-age population by sex, age and education (thousands) - Armenia</a><br>\n",
              "</li>\n",
              "<b>Explanation:</b><br> Topic mismatch: dataset subject is 'Population' (education) not trade turnover; Geography mismatch: dataset covers Armenia only, no Cyprus; No explicit time filter but dataset ends 2024, overlaps recent years but irrelevant topic.<br><b>Validation Steps:</b><br><ol><li>❌ topic:  (Dataset subject 'Population' (education) does not match trade turnover)</li><li>❌ geography:  (Dataset covers only Armenia, no Cyprus)</li><li>✅ time:  (Dataset covers 1970–2024, overlaps recent years but irrelevant topic)</li><li>✅ language:  (English available)</li><li>✅ structural: </li><li>✅ other_filters: </li></ol>\n",
              "<li>\n",
              "<a href=\"https://dateno.io/search/#97a52caa907d300a1745ec88ab305e397a9a55afbc3526ce052826077c25f8e5\">Labour force by sex, age and education (thousands) - Armenia</a><br>\n",
              "</li>\n",
              "<b>Explanation:</b><br> Topic mismatch: dataset subject 'Labour force' does not relate to trade turnover or trade balance between Armenia and Cyprus<br><b>Validation Steps:</b><br><ol><li>❌ topic:  (dataset subject 'Labour force' not relevant to trade turnover)</li><li>✅ geography:  (dataset covers Armenia)</li><li>✅ time:  (dataset covers 1970–2024, query time 2023-09-06 to 2025-09-06)</li><li>✅ language:  (dataset language English)</li><li>✅ structural: </li><li>✅ other_filters: </li></ol>\n",
              "<li>\n",
              "<a href=\"https://dateno.io/search/#1cbdad129ef6669ec598c43b92893350cd3aa6498f2b6d23f1adefd02ecf76b5\">Employees by economic activity and occupation (thousands) - Armenia</a><br>\n",
              "</li>\n",
              "<b>Explanation:</b><br> Topic mismatch: dataset subject 'Employees' does not relate to trade turnover or trade balance between Armenia and Cyprus<br><b>Validation Steps:</b><br><ol><li>❌ topic:  (dataset subject 'Employees' not relevant to trade turnover)</li><li>✅ geography:  (dataset covers Armenia)</li><li>✅ time:  (dataset covers 1982–2024, query time 2023-09-06 to 2025-09-06)</li><li>✅ language:  (dataset language English)</li><li>✅ structural: </li><li>✅ other_filters: </li></ol>\n",
              "<li>\n",
              "<a href=\"https://dateno.io/search/#f28b648d1c5f80edfc39ab521a6827c00cdbd499a1b27c7e9c391cc42519af85\">Inflow of working age foreign citizens by sex and country of citizenship (thousands) - Armenia</a><br>\n",
              "</li>\n",
              "<b>Explanation:</b><br> Topic mismatch: dataset subject 'International migrant flow' does not relate to trade turnover or trade balance between Armenia and Cyprus<br><b>Validation Steps:</b><br><ol><li>❌ topic:  (dataset subject 'International migrant flow' not relevant to trade turnover)</li><li>✅ geography:  (dataset covers Armenia)</li><li>✅ time:  (dataset covers 1980–2023, query time 2023-09-06 to 2025-09-06)</li><li>✅ language:  (dataset language English)</li><li>✅ structural: </li><li>✅ other_filters: </li></ol>\n",
              "<li>\n",
              "<a href=\"https://dateno.io/search/#8bc0446f0d0eb5e488b39d13ab7d9861a8f684d853b672dd71609e94749fc6f4\">Unemployment of previously employed persons by sex and former economic activity (thousands) - Armenia</a><br>\n",
              "</li>\n",
              "<b>Explanation:</b><br> Topic mismatch: dataset subject 'Unemployment' does not relate to trade turnover or trade balance between Armenia and Cyprus<br><b>Validation Steps:</b><br><ol><li>❌ topic:  (dataset subject 'Unemployment' not relevant to trade turnover)</li><li>✅ geography:  (dataset covers Armenia)</li><li>✅ time:  (dataset covers 1970–2024, query time 2023-09-06 to 2025-09-06)</li><li>✅ language:  (dataset language English)</li><li>✅ structural: </li><li>✅ other_filters: </li></ol>\n",
              "<li>\n",
              "<a href=\"https://dateno.io/search/#d19463c2d1f6184125cca967534143e2bc908292f85a412db4e768686c32dc42\">Time-related underemployment by sex and age (thousands) - Armenia</a><br>\n",
              "</li>\n",
              "<b>Explanation:</b><br> Topic mismatch: dataset subject 'Time-related underemployment' does not relate to trade turnover or trade balance between Armenia and Cyprus<br><b>Validation Steps:</b><br><ol><li>❌ topic:  (dataset subject 'Time-related underemployment' not relevant to trade turnover)</li><li>✅ geography:  (dataset covers Armenia)</li><li>✅ time:  (dataset covers 1955–2024, query time 2023-09-06 to 2025-09-06)</li><li>✅ language:  (dataset language English)</li><li>✅ structural: </li><li>✅ other_filters: </li></ol>\n",
              "<li>\n",
              "<a href=\"https://dateno.io/search/#acc42c44981e49ad989ab4db8c1fda7ad38bfc8869ffb94c3be1cb6ca7ab3a29\">Time-related underemployment rate by sex and age (%) - Armenia</a><br>\n",
              "</li>\n",
              "<b>Explanation:</b><br> Topic mismatch: dataset subject is 'Time-related underemployment', not related to trade turnover or trade balance between Armenia and Cyprus.<br><b>Validation Steps:</b><br><ol><li>❌ topic:  (Dataset subject 'Time-related underemployment' does not match trade turnover or trade balance)</li><li>✅ geography:  (Dataset covers Armenia but not Cyprus or bilateral trade)</li><li>✅ time:  (Dataset covers 1955 to 2024, which includes requested period 2023-09-06 to 2025-09-06)</li><li>✅ language:  (Dataset is in English)</li><li>✅ structural: </li><li>✅ other_filters: </li></ol>\n",
              "<li>\n",
              "<a href=\"https://dateno.io/search/#a1d8efb297897e2ff93fd91b941cb62da61698f34197e4172470bda989c1b69a\">Inflow of working-age foreign-born population by sex and education (thousands) - Armenia</a><br>\n",
              "</li>\n",
              "<b>Explanation:</b><br> Topic mismatch: dataset subject is 'International migrant flow', unrelated to trade turnover or trade balance between Armenia and Cyprus.<br><b>Validation Steps:</b><br><ol><li>❌ topic:  (Dataset subject 'International migrant flow' does not match trade turnover or trade balance)</li><li>✅ geography:  (Dataset covers Armenia but not Cyprus or bilateral trade)</li><li>✅ time:  (Dataset covers 1992 to 2023, overlapping requested period 2023-09-06 to 2025-09-06 partially)</li><li>✅ language:  (Dataset is in English)</li><li>✅ structural: </li><li>✅ other_filters: </li></ol>\n",
              "<li>\n",
              "<a href=\"https://dateno.io/search/#f91a286683bfd8930921d692bbb36a1f66e8a8a4c62397ee10a9d9715b133372\">National consumer price index (CPI) by COICOP, percentage change from previous year (%) - Armenia</a><br>\n",
              "</li>\n",
              "<b>Explanation:</b><br> Topic mismatch: dataset subject is 'Consumer price indices', unrelated to trade turnover or trade balance between Armenia and Cyprus.<br><b>Validation Steps:</b><br><ol><li>❌ topic:  (Dataset subject 'Consumer price indices' does not match trade turnover or trade balance)</li><li>✅ geography:  (Dataset covers Armenia but not Cyprus or bilateral trade)</li><li>✅ time:  (Dataset covers 1950 to 2024, which includes requested period 2023-09-06 to 2025-09-06)</li><li>✅ language:  (Dataset is in English)</li><li>✅ structural: </li><li>✅ other_filters: </li></ol>\n",
              "<li>\n",
              "<a href=\"https://dateno.io/search/#92503fb77c040ff7b7fec887e4cc30161888c4c5e252f432b9525d64941139a3\">Labour dependency ratio -- ILO modelled estimates, Nov. 2024 - Armenia</a><br>\n",
              "</li>\n",
              "<b>Explanation:</b><br> Topic mismatch: dataset subject is 'Population', unrelated to trade turnover or trade balance between Armenia and Cyprus.<br><b>Validation Steps:</b><br><ol><li>❌ topic:  (Dataset subject 'Population' does not match trade turnover or trade balance)</li><li>✅ geography:  (Dataset covers Armenia but not Cyprus or bilateral trade)</li><li>✅ time:  (Dataset covers 1991 to 2026, which includes requested period 2023-09-06 to 2025-09-06)</li><li>✅ language:  (Dataset is in English)</li><li>✅ structural: </li><li>✅ other_filters: </li></ol>\n",
              "<li>\n",
              "<a href=\"https://dateno.io/search/#a3e66ea8020db1446e47f2be7fada432c9594dac40d1346b0a06abf1578e6f9f\">Labour dependency ratio -- ILO modelled estimates, Nov. 2024 - Western Europe</a><br>\n",
              "</li>\n",
              "<b>Explanation:</b><br> Topic mismatch: dataset subject is 'Population' for Western Europe (ref_area X69), unrelated to trade turnover or trade balance between Armenia and Cyprus.<br><b>Validation Steps:</b><br><ol><li>❌ topic:  (Dataset subject 'Population' does not match trade turnover or trade balance)</li><li>❌ geography:  (Dataset covers Western Europe (ref_area X69), not Armenia or Cyprus)</li><li>✅ time:  (Dataset covers 1991 to 2026, which includes requested period 2023-09-06 to 2025-09-06)</li><li>✅ language:  (Dataset is in English)</li><li>✅ structural: </li><li>✅ other_filters: </li></ol></ol><br>\n"
            ]
          },
          "metadata": {}
        }
      ]
    },
    {
      "cell_type": "code",
      "source": [],
      "metadata": {
        "id": "xpJON1YvZkod"
      },
      "execution_count": null,
      "outputs": []
    }
  ]
}
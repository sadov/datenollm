{
  "nbformat": 4,
  "nbformat_minor": 0,
  "metadata": {
    "colab": {
      "provenance": [],
      "toc_visible": true,
      "include_colab_link": true
    },
    "kernelspec": {
      "name": "python3",
      "display_name": "Python 3"
    },
    "language_info": {
      "name": "python"
    }
  },
  "cells": [
    {
      "cell_type": "markdown",
      "metadata": {
        "id": "view-in-github",
        "colab_type": "text"
      },
      "source": [
        "<a href=\"https://colab.research.google.com/gist/sadov/8d8954ee0635c491e9fcae25e27e1620/dateno_llm_wf2-dateno_search.ipynb\" target=\"_parent\"><img src=\"https://colab.research.google.com/assets/colab-badge.svg\" alt=\"Open In Colab\"/></a>"
      ]
    },
    {
      "cell_type": "markdown",
      "source": [
        "# Второй этап workflow -- Dateno Search LLM-агент"
      ],
      "metadata": {
        "id": "jXwDvyw8mwF9"
      }
    },
    {
      "cell_type": "markdown",
      "source": [
        "LLM-агент Dateno Search преобразует запросы произвольной формы в поисковые запросы к базе датасетов через Dateno API."
      ],
      "metadata": {
        "id": "-Hb7puvEEtov"
      }
    },
    {
      "cell_type": "markdown",
      "source": [
        "## Подготовка"
      ],
      "metadata": {
        "id": "QM514U5VplTi"
      }
    },
    {
      "cell_type": "markdown",
      "source": [
        "Первым делом прописываем токен для доступа к [Hugging Face Spaces Dateno](https://huggingface.co/datenoio/spaces):"
      ],
      "metadata": {
        "id": "NM3N0fcEFuT5"
      }
    },
    {
      "cell_type": "code",
      "source": [
        "HF_TOKEN='YOUR DATENO HF SPACE TOKEN'"
      ],
      "metadata": {
        "id": "loKY9sI275kY"
      },
      "execution_count": 1,
      "outputs": []
    },
    {
      "cell_type": "markdown",
      "source": [
        "Устанавливаем необходимые пакеты:"
      ],
      "metadata": {
        "id": "PqfunTeweAeX"
      }
    },
    {
      "cell_type": "code",
      "source": [
        "!pip install git+https://github.com/datenoio/datenollm"
      ],
      "metadata": {
        "colab": {
          "base_uri": "https://localhost:8080/"
        },
        "collapsed": true,
        "id": "zcHKXhdGTqoo",
        "outputId": "d372eb2a-e049-4f71-8fcc-b604f8993766"
      },
      "execution_count": 3,
      "outputs": [
        {
          "output_type": "stream",
          "name": "stdout",
          "text": [
            "Collecting git+https://github.com/datenoio/datenollm\n",
            "  Cloning https://github.com/datenoio/datenollm to /tmp/pip-req-build-9b71u6cc\n",
            "  Running command git clone --filter=blob:none --quiet https://github.com/datenoio/datenollm /tmp/pip-req-build-9b71u6cc\n",
            "  Resolved https://github.com/datenoio/datenollm to commit be85bb7dc5af956df40e91c5806a1aeac8f67055\n",
            "  Installing build dependencies ... \u001b[?25l\u001b[?25hdone\n",
            "  Getting requirements to build wheel ... \u001b[?25l\u001b[?25hdone\n",
            "  Preparing metadata (pyproject.toml) ... \u001b[?25l\u001b[?25hdone\n",
            "Requirement already satisfied: gradio_client in /usr/local/lib/python3.12/dist-packages (from datenollm==0.0.1) (1.11.1)\n",
            "Requirement already satisfied: logfire>=3.24.2 in /usr/local/lib/python3.12/dist-packages (from datenollm==0.0.1) (4.3.3)\n",
            "Requirement already satisfied: executing>=2.0.1 in /usr/local/lib/python3.12/dist-packages (from logfire>=3.24.2->datenollm==0.0.1) (2.2.0)\n",
            "Requirement already satisfied: opentelemetry-exporter-otlp-proto-http<1.37.0,>=1.21.0 in /usr/local/lib/python3.12/dist-packages (from logfire>=3.24.2->datenollm==0.0.1) (1.36.0)\n",
            "Requirement already satisfied: opentelemetry-instrumentation>=0.41b0 in /usr/local/lib/python3.12/dist-packages (from logfire>=3.24.2->datenollm==0.0.1) (0.57b0)\n",
            "Requirement already satisfied: opentelemetry-sdk<1.37.0,>=1.21.0 in /usr/local/lib/python3.12/dist-packages (from logfire>=3.24.2->datenollm==0.0.1) (1.36.0)\n",
            "Requirement already satisfied: protobuf>=4.23.4 in /usr/local/lib/python3.12/dist-packages (from logfire>=3.24.2->datenollm==0.0.1) (5.29.5)\n",
            "Requirement already satisfied: rich>=13.4.2 in /usr/local/lib/python3.12/dist-packages (from logfire>=3.24.2->datenollm==0.0.1) (13.9.4)\n",
            "Requirement already satisfied: typing-extensions>=4.1.0 in /usr/local/lib/python3.12/dist-packages (from logfire>=3.24.2->datenollm==0.0.1) (4.14.1)\n",
            "Requirement already satisfied: fsspec in /usr/local/lib/python3.12/dist-packages (from gradio_client->datenollm==0.0.1) (2025.3.0)\n",
            "Requirement already satisfied: httpx>=0.24.1 in /usr/local/lib/python3.12/dist-packages (from gradio_client->datenollm==0.0.1) (0.28.1)\n",
            "Requirement already satisfied: huggingface-hub>=0.19.3 in /usr/local/lib/python3.12/dist-packages (from gradio_client->datenollm==0.0.1) (0.34.4)\n",
            "Requirement already satisfied: packaging in /usr/local/lib/python3.12/dist-packages (from gradio_client->datenollm==0.0.1) (25.0)\n",
            "Requirement already satisfied: websockets<16.0,>=10.0 in /usr/local/lib/python3.12/dist-packages (from gradio_client->datenollm==0.0.1) (15.0.1)\n",
            "Requirement already satisfied: anyio in /usr/local/lib/python3.12/dist-packages (from httpx>=0.24.1->gradio_client->datenollm==0.0.1) (4.10.0)\n",
            "Requirement already satisfied: certifi in /usr/local/lib/python3.12/dist-packages (from httpx>=0.24.1->gradio_client->datenollm==0.0.1) (2025.8.3)\n",
            "Requirement already satisfied: httpcore==1.* in /usr/local/lib/python3.12/dist-packages (from httpx>=0.24.1->gradio_client->datenollm==0.0.1) (1.0.9)\n",
            "Requirement already satisfied: idna in /usr/local/lib/python3.12/dist-packages (from httpx>=0.24.1->gradio_client->datenollm==0.0.1) (3.10)\n",
            "Requirement already satisfied: h11>=0.16 in /usr/local/lib/python3.12/dist-packages (from httpcore==1.*->httpx>=0.24.1->gradio_client->datenollm==0.0.1) (0.16.0)\n",
            "Requirement already satisfied: filelock in /usr/local/lib/python3.12/dist-packages (from huggingface-hub>=0.19.3->gradio_client->datenollm==0.0.1) (3.19.1)\n",
            "Requirement already satisfied: pyyaml>=5.1 in /usr/local/lib/python3.12/dist-packages (from huggingface-hub>=0.19.3->gradio_client->datenollm==0.0.1) (6.0.2)\n",
            "Requirement already satisfied: requests in /usr/local/lib/python3.12/dist-packages (from huggingface-hub>=0.19.3->gradio_client->datenollm==0.0.1) (2.32.3)\n",
            "Requirement already satisfied: tqdm>=4.42.1 in /usr/local/lib/python3.12/dist-packages (from huggingface-hub>=0.19.3->gradio_client->datenollm==0.0.1) (4.67.1)\n",
            "Requirement already satisfied: hf-xet<2.0.0,>=1.1.3 in /usr/local/lib/python3.12/dist-packages (from huggingface-hub>=0.19.3->gradio_client->datenollm==0.0.1) (1.1.7)\n",
            "Requirement already satisfied: googleapis-common-protos~=1.52 in /usr/local/lib/python3.12/dist-packages (from opentelemetry-exporter-otlp-proto-http<1.37.0,>=1.21.0->logfire>=3.24.2->datenollm==0.0.1) (1.70.0)\n",
            "Requirement already satisfied: opentelemetry-api~=1.15 in /usr/local/lib/python3.12/dist-packages (from opentelemetry-exporter-otlp-proto-http<1.37.0,>=1.21.0->logfire>=3.24.2->datenollm==0.0.1) (1.36.0)\n",
            "Requirement already satisfied: opentelemetry-exporter-otlp-proto-common==1.36.0 in /usr/local/lib/python3.12/dist-packages (from opentelemetry-exporter-otlp-proto-http<1.37.0,>=1.21.0->logfire>=3.24.2->datenollm==0.0.1) (1.36.0)\n",
            "Requirement already satisfied: opentelemetry-proto==1.36.0 in /usr/local/lib/python3.12/dist-packages (from opentelemetry-exporter-otlp-proto-http<1.37.0,>=1.21.0->logfire>=3.24.2->datenollm==0.0.1) (1.36.0)\n",
            "Requirement already satisfied: opentelemetry-semantic-conventions==0.57b0 in /usr/local/lib/python3.12/dist-packages (from opentelemetry-instrumentation>=0.41b0->logfire>=3.24.2->datenollm==0.0.1) (0.57b0)\n",
            "Requirement already satisfied: wrapt<2.0.0,>=1.0.0 in /usr/local/lib/python3.12/dist-packages (from opentelemetry-instrumentation>=0.41b0->logfire>=3.24.2->datenollm==0.0.1) (1.17.3)\n",
            "Requirement already satisfied: importlib-metadata<8.8.0,>=6.0 in /usr/local/lib/python3.12/dist-packages (from opentelemetry-api~=1.15->opentelemetry-exporter-otlp-proto-http<1.37.0,>=1.21.0->logfire>=3.24.2->datenollm==0.0.1) (8.7.0)\n",
            "Requirement already satisfied: markdown-it-py>=2.2.0 in /usr/local/lib/python3.12/dist-packages (from rich>=13.4.2->logfire>=3.24.2->datenollm==0.0.1) (4.0.0)\n",
            "Requirement already satisfied: pygments<3.0.0,>=2.13.0 in /usr/local/lib/python3.12/dist-packages (from rich>=13.4.2->logfire>=3.24.2->datenollm==0.0.1) (2.19.2)\n",
            "Requirement already satisfied: mdurl~=0.1 in /usr/local/lib/python3.12/dist-packages (from markdown-it-py>=2.2.0->rich>=13.4.2->logfire>=3.24.2->datenollm==0.0.1) (0.1.2)\n",
            "Requirement already satisfied: charset-normalizer<4,>=2 in /usr/local/lib/python3.12/dist-packages (from requests->huggingface-hub>=0.19.3->gradio_client->datenollm==0.0.1) (3.4.3)\n",
            "Requirement already satisfied: urllib3<3,>=1.21.1 in /usr/local/lib/python3.12/dist-packages (from requests->huggingface-hub>=0.19.3->gradio_client->datenollm==0.0.1) (2.5.0)\n",
            "Requirement already satisfied: sniffio>=1.1 in /usr/local/lib/python3.12/dist-packages (from anyio->httpx>=0.24.1->gradio_client->datenollm==0.0.1) (1.3.1)\n",
            "Requirement already satisfied: zipp>=3.20 in /usr/local/lib/python3.12/dist-packages (from importlib-metadata<8.8.0,>=6.0->opentelemetry-api~=1.15->opentelemetry-exporter-otlp-proto-http<1.37.0,>=1.21.0->logfire>=3.24.2->datenollm==0.0.1) (3.23.0)\n"
          ]
        }
      ]
    },
    {
      "cell_type": "markdown",
      "source": [
        "Импортируем то что понадобится:"
      ],
      "metadata": {
        "id": "_t6e8iTtDghG"
      }
    },
    {
      "cell_type": "code",
      "source": [
        "import json\n",
        "\n",
        "from datenollm.client import DatenoClient\n",
        "from datenollm.jupiter_nb import (\n",
        "    ChatWidget, DatenoSearchChatWidget, DatenoSearchQuerySelector,\n",
        "    ask_llm, display_table, dateno2df, create_dateno_search_selector,\n",
        "    ask_llm_and_create_selector, get_full_path,\n",
        "    QueriesSelector, QuerySelector,\n",
        "    )"
      ],
      "metadata": {
        "id": "9q0oyCkRnkgN"
      },
      "execution_count": 5,
      "outputs": []
    },
    {
      "cell_type": "markdown",
      "source": [
        "Стартуем клиент для доступа к HF Space. **М.б. придется позапускать несколько раз если будут ошибки** -- HF Space засыпает если долго не использовался и запускается опять при обращении к нему. При таком раскладе -- заводится пинка с третьего."
      ],
      "metadata": {
        "id": "MfIgxQ0Ar4mq"
      }
    },
    {
      "cell_type": "code",
      "source": [
        "client = DatenoClient('datenoio/dateno-search', hf_token=HF_TOKEN)"
      ],
      "metadata": {
        "colab": {
          "base_uri": "https://localhost:8080/"
        },
        "id": "BNoPEF1Zxmlj",
        "outputId": "426c7b36-a5bd-4105-e3b3-dac9457925e6"
      },
      "execution_count": 6,
      "outputs": [
        {
          "output_type": "stream",
          "name": "stdout",
          "text": [
            "Loaded as API: https://datenoio-dateno-search.hf.space ✔\n"
          ]
        }
      ]
    },
    {
      "cell_type": "markdown",
      "source": [
        "Проверим есть ли у нас доступ Google Disk'у. Если его нет, то последует запрос на выдачу разрешений для доступа к Google Account'у.\n",
        "\n",
        "Google запросит очень много разрешений. Однако, если выставить только разрешение на доступ к файлам и каталогам, то подключения к Google Disk не происходит.\n",
        "\n",
        "По умолчанию для сохранения в файлах истории и контекста мы используем только каталог /content/drive/MyDrive/colab_data/dateno/, ну или каталог указанный в переменной среды окружения `DRIVE_PATH`, ничего больше. См. https://github.com/datenoio/datenollm/blob/main/datenollm/file_utils.py\n",
        "\n",
        "Если условие предоставления доступа к данным на персональном Google Disk'е является критическим, можно порекомендовать запускать данный Google Collab notebook на другом аккаунте Google, где важных данных нет."
      ],
      "metadata": {
        "id": "DAw-GIrytvFw"
      }
    },
    {
      "cell_type": "code",
      "source": [
        "from google.colab import drive\n",
        "\n",
        "drive.mount('/content/drive')"
      ],
      "metadata": {
        "colab": {
          "base_uri": "https://localhost:8080/"
        },
        "id": "c7Lk_gASCLSQ",
        "outputId": "8b28ec99-c51d-4be9-9925-e925c4d890c3"
      },
      "execution_count": 7,
      "outputs": [
        {
          "output_type": "stream",
          "name": "stdout",
          "text": [
            "Mounted at /content/drive\n"
          ]
        }
      ]
    },
    {
      "cell_type": "markdown",
      "source": [
        "После предоставления доступа проверяем есть ли каталог /content/drive/MyDrive/colab_data/dateno/, если нет -- он будет создан."
      ],
      "metadata": {
        "id": "7mPjniU1CP04"
      }
    },
    {
      "cell_type": "code",
      "source": [
        "get_full_path('')"
      ],
      "metadata": {
        "colab": {
          "base_uri": "https://localhost:8080/",
          "height": 38
        },
        "id": "z_D-SXl-Ca2w",
        "outputId": "122b2831-e8c6-4c11-c318-74aeab6ed1ef"
      },
      "execution_count": 8,
      "outputs": [
        {
          "output_type": "execute_result",
          "data": {
            "text/plain": [
              "'/content/drive/MyDrive/colab_data/dateno/'"
            ],
            "application/vnd.google.colaboratory.intrinsic+json": {
              "type": "string"
            }
          },
          "metadata": {},
          "execution_count": 8
        }
      ]
    },
    {
      "cell_type": "markdown",
      "source": [
        "##Передача запросов составленных LLM-агентом Query Assistant в Dateno Search"
      ],
      "metadata": {
        "id": "8ZFCUI4Oih4h"
      }
    },
    {
      "cell_type": "markdown",
      "source": [
        "Считываем запросы сгенерированные Query Assitant'ом на предыдущем шаге:"
      ],
      "metadata": {
        "id": "hVDIewgEjHFi"
      }
    },
    {
      "cell_type": "code",
      "source": [
        "with open(get_full_path('workflow_step1.json'), 'r') as f:\n",
        "    step1 = json.load(f)"
      ],
      "metadata": {
        "id": "Vjt32EopRQk1"
      },
      "execution_count": 9,
      "outputs": []
    },
    {
      "cell_type": "code",
      "source": [
        "# @title Определяем функцию-обработчик.\n",
        "def dateno_search(selected_query):\n",
        "  print(f'Query for Dateno search LLM-agent: \"{selected_query[0]['query']}\"')\n",
        "  selector, response, history, error = ask_llm_and_create_selector(client, selected_query[0]['query'])\n",
        "  if error:\n",
        "    raise ValueError(f\"Error: {error}\")\n",
        "  else:\n",
        "    selector.display()"
      ],
      "metadata": {
        "cellView": "form",
        "id": "mTzV0neHexEU"
      },
      "execution_count": 10,
      "outputs": []
    },
    {
      "cell_type": "code",
      "source": [
        "# @title Выбираем запрос и отправляем его в Dateno Search:\n",
        "selector_widget = QuerySelector(queries_data=step1, execute_func=dateno_search)\n",
        "selector_widget.display()"
      ],
      "metadata": {
        "colab": {
          "base_uri": "https://localhost:8080/",
          "height": 1000,
          "referenced_widgets": [
            "b6b9e221a39e44a2a3dd91a41ce8ac28",
            "e966902c336243fcb70f0426e0f74a94",
            "46fab114bcf74764be0e9e7363d3c943",
            "c862d3fe51cd4a7889ad9d66bcd9d30d",
            "b984dc3a288047b19f482e5317830735",
            "be424fd86fd94537be38ef63e8a584c5",
            "772e3acc9d044346a3a13f2fdcb36f15",
            "70df9956718341b581b93bd7810c1ab5",
            "ea8faa1d029749f5945fe2f09b590791",
            "70004826b45844098da51661fa16f6df",
            "3932bfb1e5094883bd23987d599e4b88",
            "239af34976d247138239af3ef644bf3a",
            "5b73550c66a5434a9765cf58f36d8602",
            "32de194ef91540e1bcd3d997c3f41701",
            "b34d64fc526f4c6aa4af1d0ca3beaa15",
            "49b337b1da694985b3291219bfae870a",
            "335723035a514f9cb651569572d50217",
            "f4fdea1631b94a288a42750810d7ca35",
            "a43e7858044248ea8c4560afe97f80e7",
            "3eb9975656584f39ac85338b05ef5b3b",
            "10d43fd5e70a4de9bdab2ba170efce8a",
            "4cc825d55f4d4f918c5320cd2c15e1d0",
            "ddcd6cb93eb642c0bcda89ea387cecb4",
            "5066ab19f14f4eaca17b5193a3efe9c4",
            "edf480613db2457e8adbb9ed6b2a3f70",
            "bf0880860078497bb506af3845dbd7a8",
            "dc5012824b06449cab6a0c217825980e",
            "d8c7d77b28da4ef1a0b152176b60965d",
            "0d1e9f33142e4783b106375816617cb0",
            "15550d3d352e40e68c0ed2b514be9e8b",
            "43d74d051a5c4706b76ce696b242e681",
            "6cf742e9593243aab1c9cc8fc232941b",
            "5fe94a75e5524855af99a8c54cfafc99",
            "ac11937e419d43eab990f2ce4a121435",
            "90180c4023e34ed093cdb31487f52b86",
            "facf9a3dfaac4088920cb1bf820c9d40",
            "e7008fc3f244456b9fa3d86b4086757e",
            "31631c7738b54630bd434d74271bc22e",
            "dd2dfba34e134cd5a1478cea928e7504",
            "6b3c0b215eaf49cc897e03cc37f497c9",
            "80cf511930274ed4838188277a358c87",
            "4ba6600dab184534ba0315f90a4d1e0a",
            "800179b38f694ec19a3dc4731e4e515b",
            "3f2d9e837d3544d9888a6309470b3dac",
            "6ec220c4c1854fa0a9f407c3c2b9fe38",
            "764b3fd09e864fc3b23837daeb679077",
            "9dae2d69824a47598fef11d344d88f55",
            "1a352b1ada0f4645945a8d17a1e345ec",
            "0bbce27a1b8d4aa0a97001c90a129578",
            "64a0ed6585764f0ab4cc411e83e0238a",
            "efcb4caa9a7b44c0a573e5100ea9d3e2",
            "a7393222b1064231b82870f6076ec801"
          ]
        },
        "cellView": "form",
        "id": "t1ijU_0KblaR",
        "outputId": "2d976c34-b76b-46fa-cad0-46aed7c300f4"
      },
      "execution_count": 11,
      "outputs": [
        {
          "output_type": "stream",
          "name": "stdout",
          "text": [
            "===============================================\n"
          ]
        },
        {
          "output_type": "display_data",
          "data": {
            "text/plain": [
              "VBox(children=(HBox(children=(Button(button_style='warning', description='Clear Selection', layout=Layout(marg…"
            ],
            "application/vnd.jupyter.widget-view+json": {
              "version_major": 2,
              "version_minor": 0,
              "model_id": "b6b9e221a39e44a2a3dd91a41ce8ac28"
            }
          },
          "metadata": {}
        },
        {
          "output_type": "stream",
          "name": "stdout",
          "text": [
            "Query for Dateno search LLM-agent: \"total trade turnover data between Armenia and Cyprus from 2023-08-19 to 2025-08-19\"\n",
            "history_file='/content/drive/MyDrive/colab_data/dateno/history.json'\n",
            "===============================================\n"
          ]
        },
        {
          "output_type": "display_data",
          "data": {
            "text/plain": [
              "VBox(children=(HBox(children=(Button(button_style='warning', description='Clear Selection', layout=Layout(marg…"
            ],
            "application/vnd.jupyter.widget-view+json": {
              "version_major": 2,
              "version_minor": 0,
              "model_id": "49b337b1da694985b3291219bfae870a"
            }
          },
          "metadata": {}
        },
        {
          "output_type": "stream",
          "name": "stdout",
          "text": [
            "🔍 Executing search: \"total trade turnover data from 2023-08-19 to 2025-08-19\" with filters: source.countries.name=Armenia, source.countries.name=Cyprus\n",
            "\n",
            "📊 Search Results for query: \"total trade turnover data from 2023-08-19 to 2025-08-19\" with filters: source.countries.name=Armenia, source.countries.name=Cyprus\n",
            "==================================================\n",
            "   Filters: source.countries.name=Armenia, source.countries.name=Cyprus\n",
            "   ❌ No results found\n",
            "------------------------------\n",
            "🔍 Executing search: \"total trade turnover data between Armenia and Cyprus from 2023-08-19 to 2025-08-19\"\n",
            "\n",
            "📊 Search Results for query: \"total trade turnover data between Armenia and Cyprus from 2023-08-19 to 2025-08-19\"\n",
            "==================================================\n",
            "   Records found: 500\n"
          ]
        },
        {
          "output_type": "display_data",
          "data": {
            "text/plain": [
              "VBox(children=(HBox(children=(Button(description='← Previous', disabled=True, layout=Layout(width='120px'), st…"
            ],
            "application/vnd.jupyter.widget-view+json": {
              "version_major": 2,
              "version_minor": 0,
              "model_id": "43d74d051a5c4706b76ce696b242e681"
            }
          },
          "metadata": {}
        },
        {
          "output_type": "stream",
          "name": "stdout",
          "text": [
            "------------------------------\n"
          ]
        }
      ]
    },
    {
      "cell_type": "markdown",
      "source": [
        "# Запрос к LLM"
      ],
      "metadata": {
        "id": "ax62fYHAp7Bw"
      }
    },
    {
      "cell_type": "code",
      "source": [
        "# @title Задайте следующие вопросы Dateno Search:\n",
        "#context_file = \"context,json\" # @param {\"type\":\"string\",\"placeholder\":\"Enter History's file name\"}\n",
        "context_file = None\n",
        "#history_file = \"history01.json\" # @param {\"type\":\"string\",\"placeholder\":\"Enter History's file name\"}\n",
        "history_file = None\n",
        "query = \"\" # @param {\"type\":\"string\",\"placeholder\":\"Your query\"}\n",
        "\n",
        "if not query:\n",
        "  raise ValueError('Query is empty')\n",
        "\n",
        "selector, response, history, error = ask_llm_and_create_selector(client, query)\n",
        "#query_text, result_json, history, error = ask_llm(client, query)\n",
        "if error:\n",
        "    raise ValueError(f\"Error: {error}\")\n",
        "else:\n",
        "    selector.display()\n",
        "    #rating_widget = ChatWidget(history_file)\n",
        "    #display(rating_widget.display())\n",
        "\n",
        "#import json\n",
        "#response = json.loads(result_json)\n",
        "#selector = create_dateno_search_selector(client, response['queries'])\n",
        "#selector.display()\n"
      ],
      "metadata": {
        "colab": {
          "base_uri": "https://localhost:8080/",
          "height": 219
        },
        "id": "OYbTO6y2Jwxx",
        "outputId": "642bc6d8-6edc-4141-9a8d-f9096907449e",
        "cellView": "form"
      },
      "execution_count": 12,
      "outputs": [
        {
          "output_type": "error",
          "ename": "ValueError",
          "evalue": "Query is empty",
          "traceback": [
            "\u001b[0;31m---------------------------------------------------------------------------\u001b[0m",
            "\u001b[0;31mValueError\u001b[0m                                Traceback (most recent call last)",
            "\u001b[0;32m/tmp/ipython-input-1763370664.py\u001b[0m in \u001b[0;36m<cell line: 0>\u001b[0;34m()\u001b[0m\n\u001b[1;32m      7\u001b[0m \u001b[0;34m\u001b[0m\u001b[0m\n\u001b[1;32m      8\u001b[0m \u001b[0;32mif\u001b[0m \u001b[0;32mnot\u001b[0m \u001b[0mquery\u001b[0m\u001b[0;34m:\u001b[0m\u001b[0;34m\u001b[0m\u001b[0;34m\u001b[0m\u001b[0m\n\u001b[0;32m----> 9\u001b[0;31m   \u001b[0;32mraise\u001b[0m \u001b[0mValueError\u001b[0m\u001b[0;34m(\u001b[0m\u001b[0;34m'Query is empty'\u001b[0m\u001b[0;34m)\u001b[0m\u001b[0;34m\u001b[0m\u001b[0;34m\u001b[0m\u001b[0m\n\u001b[0m\u001b[1;32m     10\u001b[0m \u001b[0;34m\u001b[0m\u001b[0m\n\u001b[1;32m     11\u001b[0m \u001b[0mselector\u001b[0m\u001b[0;34m,\u001b[0m \u001b[0mresponse\u001b[0m\u001b[0;34m,\u001b[0m \u001b[0mhistory\u001b[0m\u001b[0;34m,\u001b[0m \u001b[0merror\u001b[0m \u001b[0;34m=\u001b[0m \u001b[0mask_llm_and_create_selector\u001b[0m\u001b[0;34m(\u001b[0m\u001b[0mclient\u001b[0m\u001b[0;34m,\u001b[0m \u001b[0mquery\u001b[0m\u001b[0;34m)\u001b[0m\u001b[0;34m\u001b[0m\u001b[0;34m\u001b[0m\u001b[0m\n",
            "\u001b[0;31mValueError\u001b[0m: Query is empty"
          ]
        }
      ]
    }
  ]
}
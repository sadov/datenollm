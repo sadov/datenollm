{
  "nbformat": 4,
  "nbformat_minor": 0,
  "metadata": {
    "colab": {
      "provenance": [],
      "toc_visible": true,
      "authorship_tag": "ABX9TyOSzAUy3iZwrjR2ZNK/jqn3",
      "include_colab_link": true
    },
    "kernelspec": {
      "name": "python3",
      "display_name": "Python 3"
    },
    "language_info": {
      "name": "python"
    }
  },
  "cells": [
    {
      "cell_type": "markdown",
      "metadata": {
        "id": "view-in-github",
        "colab_type": "text"
      },
      "source": [
        "<a href=\"https://colab.research.google.com/gist/sadov/47fce086ec4bc5d6d7ec43668875c872/dateno_llm_context_search.ipynb\" target=\"_parent\"><img src=\"https://colab.research.google.com/assets/colab-badge.svg\" alt=\"Open In Colab\"/></a>"
      ]
    },
    {
      "cell_type": "markdown",
      "source": [
        "# Пример использования Dateno LLM для решения прикладной задачи"
      ],
      "metadata": {
        "id": "wMJ9UJx3Sq2W"
      }
    },
    {
      "cell_type": "markdown",
      "source": [
        "Для проведения исследований в области данных с использованием системы Dateno предлагается интерфейс Jupiter Notebook (в данном случае: Google Collab). Представляется, что интерактивный документ представляемый такой платформой -- это наиболее близкая абстракция для таких специалистов, конечным продуктом работы которых являются report'ы, статьи и аналитические записки.\n",
        "\n",
        "Как мы увидим на этом примере, процесс создания экспериментального модуля ориентированного на выборку и обработку данных из Dateno может быть разделён между предметным специалистом для подготовки контекстов запросов в ходе обычного взаимодействия с LLM-агентом в форме запрос/ответ и программистом, который готовит функции специфичные для данной задачи. После наработки опредлённой проблемно-специфической практики какая-то часть этой работы также может быть передана AI-агентам.\n",
        "\n",
        "Хотим посмотреть как соотносится количество датасетов имеющих отношение к подоходному налогу в тех или иных странах на официальных национальных языках этих стран. Насколько широко используются в метаданных по этим датасетам заимствования из английского.\n",
        "\n",
        "Для этого будем использовать LLM-агента `datenoio/dateno-search` с передачей ему соответствующего контекста запроса."
      ],
      "metadata": {
        "id": "H0j4REdXTUvM"
      }
    },
    {
      "cell_type": "markdown",
      "source": [
        "## Подготовка"
      ],
      "metadata": {
        "id": "PzOcl9GUFGH7"
      }
    },
    {
      "cell_type": "markdown",
      "source": [
        "Первым делом прописываем токен для доступа к [Hugging Face Spaces Dateno](https://huggingface.co/datenoio/spaces):"
      ],
      "metadata": {
        "id": "FP6B6LiCFQOP"
      }
    },
    {
      "cell_type": "code",
      "execution_count": null,
      "metadata": {
        "id": "Sa6Cxgqi4Lkr"
      },
      "outputs": [],
      "source": [
        "HF_TOKEN='YOUR DATENO HF SPACE TOKEN'"
      ]
    },
    {
      "cell_type": "markdown",
      "source": [
        "Устанавливаем необходимые пакеты:"
      ],
      "metadata": {
        "id": "Uh5WQnbgFYT_"
      }
    },
    {
      "cell_type": "code",
      "source": [
        "!pip install git+https://github.com/datenoio/datenollm"
      ],
      "metadata": {
        "colab": {
          "base_uri": "https://localhost:8080/"
        },
        "collapsed": true,
        "id": "z_7YVUV94pji",
        "outputId": "079aef13-6593-4a69-8f52-0100be03f034"
      },
      "execution_count": null,
      "outputs": [
        {
          "output_type": "stream",
          "name": "stdout",
          "text": [
            "Collecting git+https://github.com/sadov/datenollm\n",
            "  Cloning https://github.com/sadov/datenollm to /tmp/pip-req-build-ybevin1_\n",
            "  Running command git clone --filter=blob:none --quiet https://github.com/sadov/datenollm /tmp/pip-req-build-ybevin1_\n",
            "  Resolved https://github.com/sadov/datenollm to commit a6436592864fc4d9b34d42b4a78d510a5e3be968\n",
            "  Installing build dependencies ... \u001b[?25l\u001b[?25hdone\n",
            "  Getting requirements to build wheel ... \u001b[?25l\u001b[?25hdone\n",
            "  Preparing metadata (pyproject.toml) ... \u001b[?25l\u001b[?25hdone\n",
            "Requirement already satisfied: gradio_client in /usr/local/lib/python3.11/dist-packages (from datenollm==0.0.1) (1.11.1)\n",
            "Collecting logfire>=3.24.2 (from datenollm==0.0.1)\n",
            "  Downloading logfire-4.3.3-py3-none-any.whl.metadata (10 kB)\n",
            "Collecting executing>=2.0.1 (from logfire>=3.24.2->datenollm==0.0.1)\n",
            "  Downloading executing-2.2.0-py2.py3-none-any.whl.metadata (8.9 kB)\n",
            "Collecting opentelemetry-exporter-otlp-proto-http<1.37.0,>=1.21.0 (from logfire>=3.24.2->datenollm==0.0.1)\n",
            "  Downloading opentelemetry_exporter_otlp_proto_http-1.36.0-py3-none-any.whl.metadata (2.3 kB)\n",
            "Collecting opentelemetry-instrumentation>=0.41b0 (from logfire>=3.24.2->datenollm==0.0.1)\n",
            "  Downloading opentelemetry_instrumentation-0.57b0-py3-none-any.whl.metadata (6.7 kB)\n",
            "Collecting opentelemetry-sdk<1.37.0,>=1.21.0 (from logfire>=3.24.2->datenollm==0.0.1)\n",
            "  Downloading opentelemetry_sdk-1.36.0-py3-none-any.whl.metadata (1.5 kB)\n",
            "Requirement already satisfied: protobuf>=4.23.4 in /usr/local/lib/python3.11/dist-packages (from logfire>=3.24.2->datenollm==0.0.1) (5.29.5)\n",
            "Requirement already satisfied: rich>=13.4.2 in /usr/local/lib/python3.11/dist-packages (from logfire>=3.24.2->datenollm==0.0.1) (13.9.4)\n",
            "Requirement already satisfied: typing-extensions>=4.1.0 in /usr/local/lib/python3.11/dist-packages (from logfire>=3.24.2->datenollm==0.0.1) (4.14.1)\n",
            "Requirement already satisfied: fsspec in /usr/local/lib/python3.11/dist-packages (from gradio_client->datenollm==0.0.1) (2025.3.0)\n",
            "Requirement already satisfied: httpx>=0.24.1 in /usr/local/lib/python3.11/dist-packages (from gradio_client->datenollm==0.0.1) (0.28.1)\n",
            "Requirement already satisfied: huggingface-hub>=0.19.3 in /usr/local/lib/python3.11/dist-packages (from gradio_client->datenollm==0.0.1) (0.34.4)\n",
            "Requirement already satisfied: packaging in /usr/local/lib/python3.11/dist-packages (from gradio_client->datenollm==0.0.1) (25.0)\n",
            "Requirement already satisfied: websockets<16.0,>=10.0 in /usr/local/lib/python3.11/dist-packages (from gradio_client->datenollm==0.0.1) (15.0.1)\n",
            "Requirement already satisfied: anyio in /usr/local/lib/python3.11/dist-packages (from httpx>=0.24.1->gradio_client->datenollm==0.0.1) (4.10.0)\n",
            "Requirement already satisfied: certifi in /usr/local/lib/python3.11/dist-packages (from httpx>=0.24.1->gradio_client->datenollm==0.0.1) (2025.8.3)\n",
            "Requirement already satisfied: httpcore==1.* in /usr/local/lib/python3.11/dist-packages (from httpx>=0.24.1->gradio_client->datenollm==0.0.1) (1.0.9)\n",
            "Requirement already satisfied: idna in /usr/local/lib/python3.11/dist-packages (from httpx>=0.24.1->gradio_client->datenollm==0.0.1) (3.10)\n",
            "Requirement already satisfied: h11>=0.16 in /usr/local/lib/python3.11/dist-packages (from httpcore==1.*->httpx>=0.24.1->gradio_client->datenollm==0.0.1) (0.16.0)\n",
            "Requirement already satisfied: filelock in /usr/local/lib/python3.11/dist-packages (from huggingface-hub>=0.19.3->gradio_client->datenollm==0.0.1) (3.18.0)\n",
            "Requirement already satisfied: pyyaml>=5.1 in /usr/local/lib/python3.11/dist-packages (from huggingface-hub>=0.19.3->gradio_client->datenollm==0.0.1) (6.0.2)\n",
            "Requirement already satisfied: requests in /usr/local/lib/python3.11/dist-packages (from huggingface-hub>=0.19.3->gradio_client->datenollm==0.0.1) (2.32.3)\n",
            "Requirement already satisfied: tqdm>=4.42.1 in /usr/local/lib/python3.11/dist-packages (from huggingface-hub>=0.19.3->gradio_client->datenollm==0.0.1) (4.67.1)\n",
            "Requirement already satisfied: hf-xet<2.0.0,>=1.1.3 in /usr/local/lib/python3.11/dist-packages (from huggingface-hub>=0.19.3->gradio_client->datenollm==0.0.1) (1.1.7)\n",
            "Requirement already satisfied: googleapis-common-protos~=1.52 in /usr/local/lib/python3.11/dist-packages (from opentelemetry-exporter-otlp-proto-http<1.37.0,>=1.21.0->logfire>=3.24.2->datenollm==0.0.1) (1.70.0)\n",
            "Collecting opentelemetry-api~=1.15 (from opentelemetry-exporter-otlp-proto-http<1.37.0,>=1.21.0->logfire>=3.24.2->datenollm==0.0.1)\n",
            "  Downloading opentelemetry_api-1.36.0-py3-none-any.whl.metadata (1.5 kB)\n",
            "Collecting opentelemetry-exporter-otlp-proto-common==1.36.0 (from opentelemetry-exporter-otlp-proto-http<1.37.0,>=1.21.0->logfire>=3.24.2->datenollm==0.0.1)\n",
            "  Downloading opentelemetry_exporter_otlp_proto_common-1.36.0-py3-none-any.whl.metadata (1.8 kB)\n",
            "Collecting opentelemetry-proto==1.36.0 (from opentelemetry-exporter-otlp-proto-http<1.37.0,>=1.21.0->logfire>=3.24.2->datenollm==0.0.1)\n",
            "  Downloading opentelemetry_proto-1.36.0-py3-none-any.whl.metadata (2.3 kB)\n",
            "Collecting opentelemetry-semantic-conventions==0.57b0 (from opentelemetry-instrumentation>=0.41b0->logfire>=3.24.2->datenollm==0.0.1)\n",
            "  Downloading opentelemetry_semantic_conventions-0.57b0-py3-none-any.whl.metadata (2.4 kB)\n",
            "Requirement already satisfied: wrapt<2.0.0,>=1.0.0 in /usr/local/lib/python3.11/dist-packages (from opentelemetry-instrumentation>=0.41b0->logfire>=3.24.2->datenollm==0.0.1) (1.17.3)\n",
            "Requirement already satisfied: importlib-metadata<8.8.0,>=6.0 in /usr/local/lib/python3.11/dist-packages (from opentelemetry-api~=1.15->opentelemetry-exporter-otlp-proto-http<1.37.0,>=1.21.0->logfire>=3.24.2->datenollm==0.0.1) (8.7.0)\n",
            "Requirement already satisfied: markdown-it-py>=2.2.0 in /usr/local/lib/python3.11/dist-packages (from rich>=13.4.2->logfire>=3.24.2->datenollm==0.0.1) (4.0.0)\n",
            "Requirement already satisfied: pygments<3.0.0,>=2.13.0 in /usr/local/lib/python3.11/dist-packages (from rich>=13.4.2->logfire>=3.24.2->datenollm==0.0.1) (2.19.2)\n",
            "Requirement already satisfied: mdurl~=0.1 in /usr/local/lib/python3.11/dist-packages (from markdown-it-py>=2.2.0->rich>=13.4.2->logfire>=3.24.2->datenollm==0.0.1) (0.1.2)\n",
            "Requirement already satisfied: charset-normalizer<4,>=2 in /usr/local/lib/python3.11/dist-packages (from requests->huggingface-hub>=0.19.3->gradio_client->datenollm==0.0.1) (3.4.3)\n",
            "Requirement already satisfied: urllib3<3,>=1.21.1 in /usr/local/lib/python3.11/dist-packages (from requests->huggingface-hub>=0.19.3->gradio_client->datenollm==0.0.1) (2.5.0)\n",
            "Requirement already satisfied: sniffio>=1.1 in /usr/local/lib/python3.11/dist-packages (from anyio->httpx>=0.24.1->gradio_client->datenollm==0.0.1) (1.3.1)\n",
            "Requirement already satisfied: zipp>=3.20 in /usr/local/lib/python3.11/dist-packages (from importlib-metadata<8.8.0,>=6.0->opentelemetry-api~=1.15->opentelemetry-exporter-otlp-proto-http<1.37.0,>=1.21.0->logfire>=3.24.2->datenollm==0.0.1) (3.23.0)\n",
            "Downloading logfire-4.3.3-py3-none-any.whl (213 kB)\n",
            "\u001b[2K   \u001b[90m━━━━━━━━━━━━━━━━━━━━━━━━━━━━━━━━━━━━━━━━\u001b[0m \u001b[32m213.5/213.5 kB\u001b[0m \u001b[31m6.2 MB/s\u001b[0m eta \u001b[36m0:00:00\u001b[0m\n",
            "\u001b[?25hDownloading executing-2.2.0-py2.py3-none-any.whl (26 kB)\n",
            "Downloading opentelemetry_exporter_otlp_proto_http-1.36.0-py3-none-any.whl (18 kB)\n",
            "Downloading opentelemetry_exporter_otlp_proto_common-1.36.0-py3-none-any.whl (18 kB)\n",
            "Downloading opentelemetry_proto-1.36.0-py3-none-any.whl (72 kB)\n",
            "\u001b[2K   \u001b[90m━━━━━━━━━━━━━━━━━━━━━━━━━━━━━━━━━━━━━━━━\u001b[0m \u001b[32m72.5/72.5 kB\u001b[0m \u001b[31m4.8 MB/s\u001b[0m eta \u001b[36m0:00:00\u001b[0m\n",
            "\u001b[?25hDownloading opentelemetry_instrumentation-0.57b0-py3-none-any.whl (32 kB)\n",
            "Downloading opentelemetry_semantic_conventions-0.57b0-py3-none-any.whl (201 kB)\n",
            "\u001b[2K   \u001b[90m━━━━━━━━━━━━━━━━━━━━━━━━━━━━━━━━━━━━━━━━\u001b[0m \u001b[32m201.6/201.6 kB\u001b[0m \u001b[31m12.6 MB/s\u001b[0m eta \u001b[36m0:00:00\u001b[0m\n",
            "\u001b[?25hDownloading opentelemetry_api-1.36.0-py3-none-any.whl (65 kB)\n",
            "\u001b[2K   \u001b[90m━━━━━━━━━━━━━━━━━━━━━━━━━━━━━━━━━━━━━━━━\u001b[0m \u001b[32m65.6/65.6 kB\u001b[0m \u001b[31m4.3 MB/s\u001b[0m eta \u001b[36m0:00:00\u001b[0m\n",
            "\u001b[?25hDownloading opentelemetry_sdk-1.36.0-py3-none-any.whl (119 kB)\n",
            "\u001b[2K   \u001b[90m━━━━━━━━━━━━━━━━━━━━━━━━━━━━━━━━━━━━━━━━\u001b[0m \u001b[32m120.0/120.0 kB\u001b[0m \u001b[31m8.3 MB/s\u001b[0m eta \u001b[36m0:00:00\u001b[0m\n",
            "\u001b[?25hBuilding wheels for collected packages: datenollm\n",
            "  Building wheel for datenollm (pyproject.toml) ... \u001b[?25l\u001b[?25hdone\n",
            "  Created wheel for datenollm: filename=datenollm-0.0.1-py3-none-any.whl size=26315 sha256=c1d44b072be7b8f49b87adfa7b810e0b3c075f471e87bfe833db58625dfa7186\n",
            "  Stored in directory: /tmp/pip-ephem-wheel-cache-y_n2m4lx/wheels/ff/e8/a3/a38fdc18dd13e329a4563cf060654c24e21c42b05f18fb0665\n",
            "Successfully built datenollm\n",
            "Installing collected packages: opentelemetry-proto, executing, opentelemetry-exporter-otlp-proto-common, opentelemetry-api, opentelemetry-semantic-conventions, opentelemetry-sdk, opentelemetry-instrumentation, opentelemetry-exporter-otlp-proto-http, logfire, datenollm\n",
            "Successfully installed datenollm-0.0.1 executing-2.2.0 logfire-4.3.3 opentelemetry-api-1.36.0 opentelemetry-exporter-otlp-proto-common-1.36.0 opentelemetry-exporter-otlp-proto-http-1.36.0 opentelemetry-instrumentation-0.57b0 opentelemetry-proto-1.36.0 opentelemetry-sdk-1.36.0 opentelemetry-semantic-conventions-0.57b0\n"
          ]
        }
      ]
    },
    {
      "cell_type": "markdown",
      "source": [
        "Импортируем то что понадобится:"
      ],
      "metadata": {
        "id": "GgiipfyNFaTM"
      }
    },
    {
      "cell_type": "code",
      "source": [
        "import json\n",
        "import pandas as pd\n",
        "\n",
        "from datenollm.client import DatenoClient\n",
        "from datenollm.jupiter_nb import (\n",
        "    get_full_path, ask_llm,\n",
        "    ChatWidget, DatenoSearchChatWidget,\n",
        "    results_table, history2context,\n",
        "    copy_test_data,\n",
        ")"
      ],
      "metadata": {
        "id": "wYoKXKum4vdX"
      },
      "execution_count": null,
      "outputs": []
    },
    {
      "cell_type": "markdown",
      "source": [
        "Проверим есть ли у нас доступ Google Disk'у. Если его нет, то последует запрос на выдачу разрешений для доступа к Google Account'у.\n",
        "\n",
        "Google запросит очень много разрешений. Однако, если выставить только разрешение на доступ к файлам и каталогам, то подключения к Google Disk не происходит.\n",
        "\n",
        "По умолчанию для сохранения в файлах истории и контекста мы используем только каталог /content/drive/MyDrive/colab_data/dateno/, ну или каталог указанный в переменной среды окружения `DRIVE_PATH`, ничего больше. См. https://github.com/datenoio/datenollm/blob/main/datenollm/file_utils.py\n",
        "\n",
        "Если условие предоставления доступа к данным на персональном Google Disk'е является критическим, можно порекомендовать запускать данный Google Collab notebook на другом аккаунте Google, где важных данных нет."
      ],
      "metadata": {
        "id": "0zHQG0uZdmMR"
      }
    },
    {
      "cell_type": "code",
      "source": [
        "from google.colab import drive\n",
        "\n",
        "drive.mount('/content/drive')"
      ],
      "metadata": {
        "colab": {
          "base_uri": "https://localhost:8080/"
        },
        "id": "ZgLBvXTF48Ze",
        "outputId": "e2c70edf-362e-4879-c633-310a1b164c3b"
      },
      "execution_count": null,
      "outputs": [
        {
          "output_type": "stream",
          "name": "stdout",
          "text": [
            "Drive already mounted at /content/drive; to attempt to forcibly remount, call drive.mount(\"/content/drive\", force_remount=True).\n"
          ]
        }
      ]
    },
    {
      "cell_type": "markdown",
      "source": [
        "После предоставления доступа проверяем есть ли каталог /content/drive/MyDrive/colab_data/dateno/, если нет -- он будет создан. Для чистоты эксперимента можно удалить файлы которые имеются в данном каталоге или перенести их в другой каталог."
      ],
      "metadata": {
        "id": "dtSsHIl2eFep"
      }
    },
    {
      "cell_type": "code",
      "source": [
        "get_full_path('')"
      ],
      "metadata": {
        "colab": {
          "base_uri": "https://localhost:8080/",
          "height": 38
        },
        "id": "8GLqM0YaeHp2",
        "outputId": "f9dd039a-0cc1-42f1-dfdd-1df59dea334d"
      },
      "execution_count": null,
      "outputs": [
        {
          "output_type": "execute_result",
          "data": {
            "text/plain": [
              "'/content/drive/MyDrive/colab_data/dateno/'"
            ],
            "application/vnd.google.colaboratory.intrinsic+json": {
              "type": "string"
            }
          },
          "metadata": {},
          "execution_count": 6
        }
      ]
    },
    {
      "cell_type": "markdown",
      "source": [
        "Стартуем клиент для доступа к HF Space, где работает нужный нам LLM-агент. **М.б. придется позапускать несколько раз если будут ошибки** -- HF Space засыпает если долго не использовался и запускается опять при обращении к нему. При таком раскладе -- заводиться может пинка с третьего."
      ],
      "metadata": {
        "id": "JYRV_ZBZej6B"
      }
    },
    {
      "cell_type": "code",
      "source": [
        "client = DatenoClient('datenoio/dateno-search', hf_token=HF_TOKEN)"
      ],
      "metadata": {
        "colab": {
          "base_uri": "https://localhost:8080/"
        },
        "id": "iVd2d8RJ9rSo",
        "outputId": "3d69e0d6-f094-4ff5-874d-92218dc94107"
      },
      "execution_count": null,
      "outputs": [
        {
          "output_type": "stream",
          "name": "stdout",
          "text": [
            "Loaded as API: https://datenoio-dateno-search.hf.space ✔\n"
          ]
        }
      ]
    },
    {
      "cell_type": "markdown",
      "source": [
        "## Подготавливаем экспериментальный стенд"
      ],
      "metadata": {
        "id": "QhLZDBYR_Jld"
      }
    },
    {
      "cell_type": "code",
      "source": [
        "# @title Определяем функции.\n",
        "\n",
        "def ask_llm_for_country(client, country, context_file=None, history_file=None):\n",
        "  if not country:\n",
        "    return None, None, None, \"Provide a country name\"\n",
        "  country = country.title()\n",
        "  query=f'income taxes in {country} in all official national languages'\n",
        "  print(f\"Query: {query}\")\n",
        "  query_text, result_json, history, error = ask_llm(client, query,\n",
        "                                                    context_file=context_file,\n",
        "                                                    history_file=history_file)\n",
        "  return query, result_json, history, error\n",
        "\n",
        "def dateno_index_search(llm_response):\n",
        "  if not llm_response or \"queries\" not in llm_response:\n",
        "    return None, None, None, \"Invalid LLM response format\"\n",
        "\n",
        "  if type(llm_response) is str:\n",
        "    llm_response = json.loads(llm_response)\n",
        "\n",
        "  # The primary query for the table title can be the query from the first filtered result\n",
        "  if llm_response.get('queries') and len(llm_response[\"queries\"]):\n",
        "    primary_query_text = llm_response[\"queries\"][0].get('query', '')\n",
        "  else:\n",
        "    return None, None, None, \"Empty LLM response\"\n",
        "\n",
        "  filtered_queries = []\n",
        "  for query_obj in llm_response[\"queries\"]:\n",
        "    # Check if filters exist and contain the required language filter\n",
        "    if query_obj.get('filters'):\n",
        "      lang_filter_exists = any(f for f in query_obj['filters'] if f and f.get('name') == 'source.langs.name')\n",
        "      if lang_filter_exists:\n",
        "        filtered_queries.append(query_obj)\n",
        "        print(f\"Subquery: {query_obj.get('query', '')} | Filters: {query_obj.get('filters', [])}\")\n",
        "      else:\n",
        "          print(f\"Skipping query due to missing language filter: {query_obj.get('query', '')}\")\n",
        "    else:\n",
        "        print(f\"Skipping query due to missing filters: {query_obj.get('query', '')}\")\n",
        "\n",
        "  if not filtered_queries:\n",
        "      return None, [], [], \"No queries with language filter found\"\n",
        "\n",
        "  # Create a new structure with only the filtered queries\n",
        "  filtered_llm_response = {\"queries\": filtered_queries}\n",
        "\n",
        "  # Convert the dictionary to a JSON string\n",
        "  filtered_llm_response_json_string = json.dumps(filtered_llm_response)\n",
        "\n",
        "  results = client.client.predict(llm_response=filtered_llm_response_json_string, api_name=\"/dateno_search\")\n",
        "\n",
        "  data = []\n",
        "  # The results from predict should now correspond to the filtered_queries\n",
        "  # We need to iterate through the results and match them with the original filtered queries\n",
        "  # to extract the language and dataset count.\n",
        "  # Assuming the order of results matches the order of filtered_queries\n",
        "  for i, result in enumerate(results):\n",
        "      query_info = filtered_queries[i] # Use the original filtered query info\n",
        "      filters = query_info.get('filters', [])\n",
        "      # We already know there is a language filter, so we can proceed\n",
        "      lang_filter = next((f for f in filters if f and f.get('name') == 'source.langs.name'), None)\n",
        "      if lang_filter:\n",
        "          data.append({\n",
        "              'Language': lang_filter['value'],\n",
        "              'Number of datasets ': len(result['results']['hits']['hits'])\n",
        "          })\n",
        "\n",
        "  return primary_query_text, results, data, None"
      ],
      "metadata": {
        "cellView": "form",
        "id": "3yVkVKDh5EtX"
      },
      "execution_count": null,
      "outputs": []
    },
    {
      "cell_type": "markdown",
      "source": [
        "Проверяем как это работает."
      ],
      "metadata": {
        "id": "rwF1RMr_Ggnt"
      }
    },
    {
      "cell_type": "code",
      "source": [
        "# @title Вводим интересующую нас страну:\n",
        "country = \"ceylon\" # @param {\"type\":\"string\",\"placeholder\":\"Provide a country name\"}\n",
        "\n",
        "query_text, llm_response, history, error = ask_llm_for_country(client, country)\n",
        "if error:\n",
        "    raise ValueError(f\"Error: {error}\")\n",
        "\n",
        "query, results, data, error = dateno_index_search(llm_response)\n",
        "table = results_table(query, data)\n",
        "table"
      ],
      "metadata": {
        "colab": {
          "base_uri": "https://localhost:8080/",
          "height": 327
        },
        "cellView": "form",
        "id": "om2W5AUSp8LR",
        "outputId": "2c939222-96ab-4153-821e-f9fd4eceb632"
      },
      "execution_count": null,
      "outputs": [
        {
          "output_type": "stream",
          "name": "stdout",
          "text": [
            "Query: income taxes in Ceylon in all official national languages\n",
            "history_file='/content/drive/MyDrive/colab_data/dateno/history.json'\n",
            "Skipping query due to missing filters: income taxes in Ceylon in all official national languages\n",
            "Subquery: ආදායම් බදු | Filters: [{'name': 'source.countries.name', 'value': 'Sri Lanka'}, {'name': 'source.langs.name', 'value': 'Sinhala'}]\n",
            "Subquery: வருமான வரிகள் | Filters: [{'name': 'source.countries.name', 'value': 'Sri Lanka'}, {'name': 'source.langs.name', 'value': 'Tamil'}]\n",
            "Subquery: income taxes | Filters: [{'name': 'source.countries.name', 'value': 'Sri Lanka'}, {'name': 'source.langs.name', 'value': 'English'}]\n",
            "\n",
            "Datasets for query 'income taxes in Ceylon in all official national languages':\n",
            "\n"
          ]
        },
        {
          "output_type": "execute_result",
          "data": {
            "text/plain": [
              "  Language  Number of datasets \n",
              "0  Sinhala                    0\n",
              "1    Tamil                    0\n",
              "2  English                  500"
            ],
            "text/html": [
              "\n",
              "  <div id=\"df-e9d9b96a-b98d-4df4-946e-e2c5d44cc7c1\" class=\"colab-df-container\">\n",
              "    <div>\n",
              "<style scoped>\n",
              "    .dataframe tbody tr th:only-of-type {\n",
              "        vertical-align: middle;\n",
              "    }\n",
              "\n",
              "    .dataframe tbody tr th {\n",
              "        vertical-align: top;\n",
              "    }\n",
              "\n",
              "    .dataframe thead th {\n",
              "        text-align: right;\n",
              "    }\n",
              "</style>\n",
              "<table border=\"1\" class=\"dataframe\">\n",
              "  <thead>\n",
              "    <tr style=\"text-align: right;\">\n",
              "      <th></th>\n",
              "      <th>Language</th>\n",
              "      <th>Number of datasets</th>\n",
              "    </tr>\n",
              "  </thead>\n",
              "  <tbody>\n",
              "    <tr>\n",
              "      <th>0</th>\n",
              "      <td>Sinhala</td>\n",
              "      <td>0</td>\n",
              "    </tr>\n",
              "    <tr>\n",
              "      <th>1</th>\n",
              "      <td>Tamil</td>\n",
              "      <td>0</td>\n",
              "    </tr>\n",
              "    <tr>\n",
              "      <th>2</th>\n",
              "      <td>English</td>\n",
              "      <td>500</td>\n",
              "    </tr>\n",
              "  </tbody>\n",
              "</table>\n",
              "</div>\n",
              "    <div class=\"colab-df-buttons\">\n",
              "\n",
              "  <div class=\"colab-df-container\">\n",
              "    <button class=\"colab-df-convert\" onclick=\"convertToInteractive('df-e9d9b96a-b98d-4df4-946e-e2c5d44cc7c1')\"\n",
              "            title=\"Convert this dataframe to an interactive table.\"\n",
              "            style=\"display:none;\">\n",
              "\n",
              "  <svg xmlns=\"http://www.w3.org/2000/svg\" height=\"24px\" viewBox=\"0 -960 960 960\">\n",
              "    <path d=\"M120-120v-720h720v720H120Zm60-500h600v-160H180v160Zm220 220h160v-160H400v160Zm0 220h160v-160H400v160ZM180-400h160v-160H180v160Zm440 0h160v-160H620v160ZM180-180h160v-160H180v160Zm440 0h160v-160H620v160Z\"/>\n",
              "  </svg>\n",
              "    </button>\n",
              "\n",
              "  <style>\n",
              "    .colab-df-container {\n",
              "      display:flex;\n",
              "      gap: 12px;\n",
              "    }\n",
              "\n",
              "    .colab-df-convert {\n",
              "      background-color: #E8F0FE;\n",
              "      border: none;\n",
              "      border-radius: 50%;\n",
              "      cursor: pointer;\n",
              "      display: none;\n",
              "      fill: #1967D2;\n",
              "      height: 32px;\n",
              "      padding: 0 0 0 0;\n",
              "      width: 32px;\n",
              "    }\n",
              "\n",
              "    .colab-df-convert:hover {\n",
              "      background-color: #E2EBFA;\n",
              "      box-shadow: 0px 1px 2px rgba(60, 64, 67, 0.3), 0px 1px 3px 1px rgba(60, 64, 67, 0.15);\n",
              "      fill: #174EA6;\n",
              "    }\n",
              "\n",
              "    .colab-df-buttons div {\n",
              "      margin-bottom: 4px;\n",
              "    }\n",
              "\n",
              "    [theme=dark] .colab-df-convert {\n",
              "      background-color: #3B4455;\n",
              "      fill: #D2E3FC;\n",
              "    }\n",
              "\n",
              "    [theme=dark] .colab-df-convert:hover {\n",
              "      background-color: #434B5C;\n",
              "      box-shadow: 0px 1px 3px 1px rgba(0, 0, 0, 0.15);\n",
              "      filter: drop-shadow(0px 1px 2px rgba(0, 0, 0, 0.3));\n",
              "      fill: #FFFFFF;\n",
              "    }\n",
              "  </style>\n",
              "\n",
              "    <script>\n",
              "      const buttonEl =\n",
              "        document.querySelector('#df-e9d9b96a-b98d-4df4-946e-e2c5d44cc7c1 button.colab-df-convert');\n",
              "      buttonEl.style.display =\n",
              "        google.colab.kernel.accessAllowed ? 'block' : 'none';\n",
              "\n",
              "      async function convertToInteractive(key) {\n",
              "        const element = document.querySelector('#df-e9d9b96a-b98d-4df4-946e-e2c5d44cc7c1');\n",
              "        const dataTable =\n",
              "          await google.colab.kernel.invokeFunction('convertToInteractive',\n",
              "                                                    [key], {});\n",
              "        if (!dataTable) return;\n",
              "\n",
              "        const docLinkHtml = 'Like what you see? Visit the ' +\n",
              "          '<a target=\"_blank\" href=https://colab.research.google.com/notebooks/data_table.ipynb>data table notebook</a>'\n",
              "          + ' to learn more about interactive tables.';\n",
              "        element.innerHTML = '';\n",
              "        dataTable['output_type'] = 'display_data';\n",
              "        await google.colab.output.renderOutput(dataTable, element);\n",
              "        const docLink = document.createElement('div');\n",
              "        docLink.innerHTML = docLinkHtml;\n",
              "        element.appendChild(docLink);\n",
              "      }\n",
              "    </script>\n",
              "  </div>\n",
              "\n",
              "\n",
              "    <div id=\"df-8b3801e3-8c9d-4b01-8887-adcc5c1d4ba4\">\n",
              "      <button class=\"colab-df-quickchart\" onclick=\"quickchart('df-8b3801e3-8c9d-4b01-8887-adcc5c1d4ba4')\"\n",
              "                title=\"Suggest charts\"\n",
              "                style=\"display:none;\">\n",
              "\n",
              "<svg xmlns=\"http://www.w3.org/2000/svg\" height=\"24px\"viewBox=\"0 0 24 24\"\n",
              "     width=\"24px\">\n",
              "    <g>\n",
              "        <path d=\"M19 3H5c-1.1 0-2 .9-2 2v14c0 1.1.9 2 2 2h14c1.1 0 2-.9 2-2V5c0-1.1-.9-2-2-2zM9 17H7v-7h2v7zm4 0h-2V7h2v10zm4 0h-2v-4h2v4z\"/>\n",
              "    </g>\n",
              "</svg>\n",
              "      </button>\n",
              "\n",
              "<style>\n",
              "  .colab-df-quickchart {\n",
              "      --bg-color: #E8F0FE;\n",
              "      --fill-color: #1967D2;\n",
              "      --hover-bg-color: #E2EBFA;\n",
              "      --hover-fill-color: #174EA6;\n",
              "      --disabled-fill-color: #AAA;\n",
              "      --disabled-bg-color: #DDD;\n",
              "  }\n",
              "\n",
              "  [theme=dark] .colab-df-quickchart {\n",
              "      --bg-color: #3B4455;\n",
              "      --fill-color: #D2E3FC;\n",
              "      --hover-bg-color: #434B5C;\n",
              "      --hover-fill-color: #FFFFFF;\n",
              "      --disabled-bg-color: #3B4455;\n",
              "      --disabled-fill-color: #666;\n",
              "  }\n",
              "\n",
              "  .colab-df-quickchart {\n",
              "    background-color: var(--bg-color);\n",
              "    border: none;\n",
              "    border-radius: 50%;\n",
              "    cursor: pointer;\n",
              "    display: none;\n",
              "    fill: var(--fill-color);\n",
              "    height: 32px;\n",
              "    padding: 0;\n",
              "    width: 32px;\n",
              "  }\n",
              "\n",
              "  .colab-df-quickchart:hover {\n",
              "    background-color: var(--hover-bg-color);\n",
              "    box-shadow: 0 1px 2px rgba(60, 64, 67, 0.3), 0 1px 3px 1px rgba(60, 64, 67, 0.15);\n",
              "    fill: var(--button-hover-fill-color);\n",
              "  }\n",
              "\n",
              "  .colab-df-quickchart-complete:disabled,\n",
              "  .colab-df-quickchart-complete:disabled:hover {\n",
              "    background-color: var(--disabled-bg-color);\n",
              "    fill: var(--disabled-fill-color);\n",
              "    box-shadow: none;\n",
              "  }\n",
              "\n",
              "  .colab-df-spinner {\n",
              "    border: 2px solid var(--fill-color);\n",
              "    border-color: transparent;\n",
              "    border-bottom-color: var(--fill-color);\n",
              "    animation:\n",
              "      spin 1s steps(1) infinite;\n",
              "  }\n",
              "\n",
              "  @keyframes spin {\n",
              "    0% {\n",
              "      border-color: transparent;\n",
              "      border-bottom-color: var(--fill-color);\n",
              "      border-left-color: var(--fill-color);\n",
              "    }\n",
              "    20% {\n",
              "      border-color: transparent;\n",
              "      border-left-color: var(--fill-color);\n",
              "      border-top-color: var(--fill-color);\n",
              "    }\n",
              "    30% {\n",
              "      border-color: transparent;\n",
              "      border-left-color: var(--fill-color);\n",
              "      border-top-color: var(--fill-color);\n",
              "      border-right-color: var(--fill-color);\n",
              "    }\n",
              "    40% {\n",
              "      border-color: transparent;\n",
              "      border-right-color: var(--fill-color);\n",
              "      border-top-color: var(--fill-color);\n",
              "    }\n",
              "    60% {\n",
              "      border-color: transparent;\n",
              "      border-right-color: var(--fill-color);\n",
              "    }\n",
              "    80% {\n",
              "      border-color: transparent;\n",
              "      border-right-color: var(--fill-color);\n",
              "      border-bottom-color: var(--fill-color);\n",
              "    }\n",
              "    90% {\n",
              "      border-color: transparent;\n",
              "      border-bottom-color: var(--fill-color);\n",
              "    }\n",
              "  }\n",
              "</style>\n",
              "\n",
              "      <script>\n",
              "        async function quickchart(key) {\n",
              "          const quickchartButtonEl =\n",
              "            document.querySelector('#' + key + ' button');\n",
              "          quickchartButtonEl.disabled = true;  // To prevent multiple clicks.\n",
              "          quickchartButtonEl.classList.add('colab-df-spinner');\n",
              "          try {\n",
              "            const charts = await google.colab.kernel.invokeFunction(\n",
              "                'suggestCharts', [key], {});\n",
              "          } catch (error) {\n",
              "            console.error('Error during call to suggestCharts:', error);\n",
              "          }\n",
              "          quickchartButtonEl.classList.remove('colab-df-spinner');\n",
              "          quickchartButtonEl.classList.add('colab-df-quickchart-complete');\n",
              "        }\n",
              "        (() => {\n",
              "          let quickchartButtonEl =\n",
              "            document.querySelector('#df-8b3801e3-8c9d-4b01-8887-adcc5c1d4ba4 button');\n",
              "          quickchartButtonEl.style.display =\n",
              "            google.colab.kernel.accessAllowed ? 'block' : 'none';\n",
              "        })();\n",
              "      </script>\n",
              "    </div>\n",
              "\n",
              "  <div id=\"id_10344be8-23ca-42eb-8dcb-031bfb7b200f\">\n",
              "    <style>\n",
              "      .colab-df-generate {\n",
              "        background-color: #E8F0FE;\n",
              "        border: none;\n",
              "        border-radius: 50%;\n",
              "        cursor: pointer;\n",
              "        display: none;\n",
              "        fill: #1967D2;\n",
              "        height: 32px;\n",
              "        padding: 0 0 0 0;\n",
              "        width: 32px;\n",
              "      }\n",
              "\n",
              "      .colab-df-generate:hover {\n",
              "        background-color: #E2EBFA;\n",
              "        box-shadow: 0px 1px 2px rgba(60, 64, 67, 0.3), 0px 1px 3px 1px rgba(60, 64, 67, 0.15);\n",
              "        fill: #174EA6;\n",
              "      }\n",
              "\n",
              "      [theme=dark] .colab-df-generate {\n",
              "        background-color: #3B4455;\n",
              "        fill: #D2E3FC;\n",
              "      }\n",
              "\n",
              "      [theme=dark] .colab-df-generate:hover {\n",
              "        background-color: #434B5C;\n",
              "        box-shadow: 0px 1px 3px 1px rgba(0, 0, 0, 0.15);\n",
              "        filter: drop-shadow(0px 1px 2px rgba(0, 0, 0, 0.3));\n",
              "        fill: #FFFFFF;\n",
              "      }\n",
              "    </style>\n",
              "    <button class=\"colab-df-generate\" onclick=\"generateWithVariable('table')\"\n",
              "            title=\"Generate code using this dataframe.\"\n",
              "            style=\"display:none;\">\n",
              "\n",
              "  <svg xmlns=\"http://www.w3.org/2000/svg\" height=\"24px\"viewBox=\"0 0 24 24\"\n",
              "       width=\"24px\">\n",
              "    <path d=\"M7,19H8.4L18.45,9,17,7.55,7,17.6ZM5,21V16.75L18.45,3.32a2,2,0,0,1,2.83,0l1.4,1.43a1.91,1.91,0,0,1,.58,1.4,1.91,1.91,0,0,1-.58,1.4L9.25,21ZM18.45,9,17,7.55Zm-12,3A5.31,5.31,0,0,0,4.9,8.1,5.31,5.31,0,0,0,1,6.5,5.31,5.31,0,0,0,4.9,4.9,5.31,5.31,0,0,0,6.5,1,5.31,5.31,0,0,0,8.1,4.9,5.31,5.31,0,0,0,12,6.5,5.46,5.46,0,0,0,6.5,12Z\"/>\n",
              "  </svg>\n",
              "    </button>\n",
              "    <script>\n",
              "      (() => {\n",
              "      const buttonEl =\n",
              "        document.querySelector('#id_10344be8-23ca-42eb-8dcb-031bfb7b200f button.colab-df-generate');\n",
              "      buttonEl.style.display =\n",
              "        google.colab.kernel.accessAllowed ? 'block' : 'none';\n",
              "\n",
              "      buttonEl.onclick = () => {\n",
              "        google.colab.notebook.generateWithVariable('table');\n",
              "      }\n",
              "      })();\n",
              "    </script>\n",
              "  </div>\n",
              "\n",
              "    </div>\n",
              "  </div>\n"
            ],
            "application/vnd.google.colaboratory.intrinsic+json": {
              "type": "dataframe",
              "variable_name": "table",
              "summary": "{\n  \"name\": \"table\",\n  \"rows\": 3,\n  \"fields\": [\n    {\n      \"column\": \"Language\",\n      \"properties\": {\n        \"dtype\": \"string\",\n        \"num_unique_values\": 3,\n        \"samples\": [\n          \"Sinhala\",\n          \"Tamil\",\n          \"English\"\n        ],\n        \"semantic_type\": \"\",\n        \"description\": \"\"\n      }\n    },\n    {\n      \"column\": \"Number of datasets \",\n      \"properties\": {\n        \"dtype\": \"number\",\n        \"std\": 288,\n        \"min\": 0,\n        \"max\": 500,\n        \"num_unique_values\": 2,\n        \"samples\": [\n          500,\n          0\n        ],\n        \"semantic_type\": \"\",\n        \"description\": \"\"\n      }\n    }\n  ]\n}"
            }
          },
          "metadata": {},
          "execution_count": 13
        }
      ]
    },
    {
      "cell_type": "markdown",
      "source": [
        "Копируем подготовленные ранее контексты."
      ],
      "metadata": {
        "id": "nnhgyB6bUY9a"
      }
    },
    {
      "cell_type": "code",
      "source": [
        "copy_test_data()"
      ],
      "metadata": {
        "id": "LkAIL3wCUWUD"
      },
      "execution_count": null,
      "outputs": []
    },
    {
      "cell_type": "markdown",
      "source": [
        "## Эксперимент"
      ],
      "metadata": {
        "id": "MTvLkgqP_Xti"
      }
    },
    {
      "cell_type": "markdown",
      "source": [
        "А теперь смотрим сколько датасетов у нас есть на каких языках и насколько они используют заимствования из английского.\n",
        "\n",
        "Проверяем этот запрос с переводом на выбранный язык и без перевода. Для этого мы имеем два разных контекста."
      ],
      "metadata": {
        "id": "tsCJXk0EGypm"
      }
    },
    {
      "cell_type": "code",
      "source": [
        "# @title Вводим интересующую нас страну:\n",
        "country = \"switzerland\" # @param {\"type\":\"string\",\"placeholder\":\"Provide a country name\"}\n",
        "if not country:\n",
        "  raise ValueError(\"Provide a country name\")\n",
        "country = country.title()\n",
        "query=f'income taxes in {country} in all official national languages'\n",
        "print(f\"Query: {query}\")"
      ],
      "metadata": {
        "colab": {
          "base_uri": "https://localhost:8080/"
        },
        "cellView": "form",
        "id": "aP1wkbMVr2A9",
        "outputId": "b5bfff26-fbbe-4d2a-e2e7-d82ecd1173c1"
      },
      "execution_count": null,
      "outputs": [
        {
          "output_type": "stream",
          "name": "stdout",
          "text": [
            "Query: income taxes in Switzerland in all official national languages\n"
          ]
        }
      ]
    },
    {
      "cell_type": "markdown",
      "source": [
        "Проверяем этот запрос с переводом на выбранный язык и без перевода."
      ],
      "metadata": {
        "id": "AqzLRJnrHXlZ"
      }
    },
    {
      "cell_type": "code",
      "source": [
        "# @title Количество датасетов на нац. языках без перевода запроса на эти языки:\n",
        "history_notr = \"history-trans.json\"\n",
        "context_notr = \"context-trans.json\"\n",
        "\n",
        "query_text, llm_response, history, error = ask_llm_for_country(client, country,\n",
        "                                                               context_file=context_notr,\n",
        "                                                               history_file=history_notr)\n",
        "if error:\n",
        "    raise ValueError(f\"Error: {error}\")\n",
        "\n",
        "query, results, data, error = dateno_index_search(llm_response)\n",
        "table = results_table(query, data)\n",
        "table"
      ],
      "metadata": {
        "colab": {
          "base_uri": "https://localhost:8080/",
          "height": 444
        },
        "cellView": "form",
        "id": "A4pe9lVfqx1d",
        "outputId": "ff3f4850-2f2d-4922-c023-158650fde7c5"
      },
      "execution_count": null,
      "outputs": [
        {
          "output_type": "stream",
          "name": "stdout",
          "text": [
            "Query: income taxes in Switzerland in all official national languages\n",
            "context_file='/content/drive/MyDrive/colab_data/dateno/context-trans,json'\n",
            "history_file='/content/drive/MyDrive/colab_data/dateno/history-trans.json'\n",
            "Skipping query due to missing filters: income taxes in Switzerland\n",
            "Subquery: income taxes | Filters: [{'name': 'source.countries.name', 'value': 'Switzerland'}, {'name': 'source.langs.name', 'value': 'German'}]\n",
            "Subquery: income taxes | Filters: [{'name': 'source.countries.name', 'value': 'Switzerland'}, {'name': 'source.langs.name', 'value': 'French'}]\n",
            "Subquery: income taxes | Filters: [{'name': 'source.countries.name', 'value': 'Switzerland'}, {'name': 'source.langs.name', 'value': 'Italian'}]\n",
            "Subquery: income taxes | Filters: [{'name': 'source.countries.name', 'value': 'Switzerland'}, {'name': 'source.langs.name', 'value': 'Romansh'}]\n",
            "Subquery: income taxes | Filters: [{'name': 'source.countries.name', 'value': 'Switzerland'}, {'name': 'source.langs.name', 'value': 'English'}]\n",
            "\n",
            "Datasets for query 'income taxes in Switzerland':\n",
            "\n"
          ]
        },
        {
          "output_type": "execute_result",
          "data": {
            "text/plain": [
              "  Language  Number of datasets \n",
              "0   German                   60\n",
              "1   French                    2\n",
              "2  Italian                    0\n",
              "3  Romansh                    0\n",
              "4  English                  407"
            ],
            "text/html": [
              "\n",
              "  <div id=\"df-ff6d79d8-7b9c-44b8-b590-1323b34c4f7f\" class=\"colab-df-container\">\n",
              "    <div>\n",
              "<style scoped>\n",
              "    .dataframe tbody tr th:only-of-type {\n",
              "        vertical-align: middle;\n",
              "    }\n",
              "\n",
              "    .dataframe tbody tr th {\n",
              "        vertical-align: top;\n",
              "    }\n",
              "\n",
              "    .dataframe thead th {\n",
              "        text-align: right;\n",
              "    }\n",
              "</style>\n",
              "<table border=\"1\" class=\"dataframe\">\n",
              "  <thead>\n",
              "    <tr style=\"text-align: right;\">\n",
              "      <th></th>\n",
              "      <th>Language</th>\n",
              "      <th>Number of datasets</th>\n",
              "    </tr>\n",
              "  </thead>\n",
              "  <tbody>\n",
              "    <tr>\n",
              "      <th>0</th>\n",
              "      <td>German</td>\n",
              "      <td>60</td>\n",
              "    </tr>\n",
              "    <tr>\n",
              "      <th>1</th>\n",
              "      <td>French</td>\n",
              "      <td>2</td>\n",
              "    </tr>\n",
              "    <tr>\n",
              "      <th>2</th>\n",
              "      <td>Italian</td>\n",
              "      <td>0</td>\n",
              "    </tr>\n",
              "    <tr>\n",
              "      <th>3</th>\n",
              "      <td>Romansh</td>\n",
              "      <td>0</td>\n",
              "    </tr>\n",
              "    <tr>\n",
              "      <th>4</th>\n",
              "      <td>English</td>\n",
              "      <td>407</td>\n",
              "    </tr>\n",
              "  </tbody>\n",
              "</table>\n",
              "</div>\n",
              "    <div class=\"colab-df-buttons\">\n",
              "\n",
              "  <div class=\"colab-df-container\">\n",
              "    <button class=\"colab-df-convert\" onclick=\"convertToInteractive('df-ff6d79d8-7b9c-44b8-b590-1323b34c4f7f')\"\n",
              "            title=\"Convert this dataframe to an interactive table.\"\n",
              "            style=\"display:none;\">\n",
              "\n",
              "  <svg xmlns=\"http://www.w3.org/2000/svg\" height=\"24px\" viewBox=\"0 -960 960 960\">\n",
              "    <path d=\"M120-120v-720h720v720H120Zm60-500h600v-160H180v160Zm220 220h160v-160H400v160Zm0 220h160v-160H400v160ZM180-400h160v-160H180v160Zm440 0h160v-160H620v160ZM180-180h160v-160H180v160Zm440 0h160v-160H620v160Z\"/>\n",
              "  </svg>\n",
              "    </button>\n",
              "\n",
              "  <style>\n",
              "    .colab-df-container {\n",
              "      display:flex;\n",
              "      gap: 12px;\n",
              "    }\n",
              "\n",
              "    .colab-df-convert {\n",
              "      background-color: #E8F0FE;\n",
              "      border: none;\n",
              "      border-radius: 50%;\n",
              "      cursor: pointer;\n",
              "      display: none;\n",
              "      fill: #1967D2;\n",
              "      height: 32px;\n",
              "      padding: 0 0 0 0;\n",
              "      width: 32px;\n",
              "    }\n",
              "\n",
              "    .colab-df-convert:hover {\n",
              "      background-color: #E2EBFA;\n",
              "      box-shadow: 0px 1px 2px rgba(60, 64, 67, 0.3), 0px 1px 3px 1px rgba(60, 64, 67, 0.15);\n",
              "      fill: #174EA6;\n",
              "    }\n",
              "\n",
              "    .colab-df-buttons div {\n",
              "      margin-bottom: 4px;\n",
              "    }\n",
              "\n",
              "    [theme=dark] .colab-df-convert {\n",
              "      background-color: #3B4455;\n",
              "      fill: #D2E3FC;\n",
              "    }\n",
              "\n",
              "    [theme=dark] .colab-df-convert:hover {\n",
              "      background-color: #434B5C;\n",
              "      box-shadow: 0px 1px 3px 1px rgba(0, 0, 0, 0.15);\n",
              "      filter: drop-shadow(0px 1px 2px rgba(0, 0, 0, 0.3));\n",
              "      fill: #FFFFFF;\n",
              "    }\n",
              "  </style>\n",
              "\n",
              "    <script>\n",
              "      const buttonEl =\n",
              "        document.querySelector('#df-ff6d79d8-7b9c-44b8-b590-1323b34c4f7f button.colab-df-convert');\n",
              "      buttonEl.style.display =\n",
              "        google.colab.kernel.accessAllowed ? 'block' : 'none';\n",
              "\n",
              "      async function convertToInteractive(key) {\n",
              "        const element = document.querySelector('#df-ff6d79d8-7b9c-44b8-b590-1323b34c4f7f');\n",
              "        const dataTable =\n",
              "          await google.colab.kernel.invokeFunction('convertToInteractive',\n",
              "                                                    [key], {});\n",
              "        if (!dataTable) return;\n",
              "\n",
              "        const docLinkHtml = 'Like what you see? Visit the ' +\n",
              "          '<a target=\"_blank\" href=https://colab.research.google.com/notebooks/data_table.ipynb>data table notebook</a>'\n",
              "          + ' to learn more about interactive tables.';\n",
              "        element.innerHTML = '';\n",
              "        dataTable['output_type'] = 'display_data';\n",
              "        await google.colab.output.renderOutput(dataTable, element);\n",
              "        const docLink = document.createElement('div');\n",
              "        docLink.innerHTML = docLinkHtml;\n",
              "        element.appendChild(docLink);\n",
              "      }\n",
              "    </script>\n",
              "  </div>\n",
              "\n",
              "\n",
              "    <div id=\"df-3ea778b4-c87c-4bed-8c70-8536c4cb88e4\">\n",
              "      <button class=\"colab-df-quickchart\" onclick=\"quickchart('df-3ea778b4-c87c-4bed-8c70-8536c4cb88e4')\"\n",
              "                title=\"Suggest charts\"\n",
              "                style=\"display:none;\">\n",
              "\n",
              "<svg xmlns=\"http://www.w3.org/2000/svg\" height=\"24px\"viewBox=\"0 0 24 24\"\n",
              "     width=\"24px\">\n",
              "    <g>\n",
              "        <path d=\"M19 3H5c-1.1 0-2 .9-2 2v14c0 1.1.9 2 2 2h14c1.1 0 2-.9 2-2V5c0-1.1-.9-2-2-2zM9 17H7v-7h2v7zm4 0h-2V7h2v10zm4 0h-2v-4h2v4z\"/>\n",
              "    </g>\n",
              "</svg>\n",
              "      </button>\n",
              "\n",
              "<style>\n",
              "  .colab-df-quickchart {\n",
              "      --bg-color: #E8F0FE;\n",
              "      --fill-color: #1967D2;\n",
              "      --hover-bg-color: #E2EBFA;\n",
              "      --hover-fill-color: #174EA6;\n",
              "      --disabled-fill-color: #AAA;\n",
              "      --disabled-bg-color: #DDD;\n",
              "  }\n",
              "\n",
              "  [theme=dark] .colab-df-quickchart {\n",
              "      --bg-color: #3B4455;\n",
              "      --fill-color: #D2E3FC;\n",
              "      --hover-bg-color: #434B5C;\n",
              "      --hover-fill-color: #FFFFFF;\n",
              "      --disabled-bg-color: #3B4455;\n",
              "      --disabled-fill-color: #666;\n",
              "  }\n",
              "\n",
              "  .colab-df-quickchart {\n",
              "    background-color: var(--bg-color);\n",
              "    border: none;\n",
              "    border-radius: 50%;\n",
              "    cursor: pointer;\n",
              "    display: none;\n",
              "    fill: var(--fill-color);\n",
              "    height: 32px;\n",
              "    padding: 0;\n",
              "    width: 32px;\n",
              "  }\n",
              "\n",
              "  .colab-df-quickchart:hover {\n",
              "    background-color: var(--hover-bg-color);\n",
              "    box-shadow: 0 1px 2px rgba(60, 64, 67, 0.3), 0 1px 3px 1px rgba(60, 64, 67, 0.15);\n",
              "    fill: var(--button-hover-fill-color);\n",
              "  }\n",
              "\n",
              "  .colab-df-quickchart-complete:disabled,\n",
              "  .colab-df-quickchart-complete:disabled:hover {\n",
              "    background-color: var(--disabled-bg-color);\n",
              "    fill: var(--disabled-fill-color);\n",
              "    box-shadow: none;\n",
              "  }\n",
              "\n",
              "  .colab-df-spinner {\n",
              "    border: 2px solid var(--fill-color);\n",
              "    border-color: transparent;\n",
              "    border-bottom-color: var(--fill-color);\n",
              "    animation:\n",
              "      spin 1s steps(1) infinite;\n",
              "  }\n",
              "\n",
              "  @keyframes spin {\n",
              "    0% {\n",
              "      border-color: transparent;\n",
              "      border-bottom-color: var(--fill-color);\n",
              "      border-left-color: var(--fill-color);\n",
              "    }\n",
              "    20% {\n",
              "      border-color: transparent;\n",
              "      border-left-color: var(--fill-color);\n",
              "      border-top-color: var(--fill-color);\n",
              "    }\n",
              "    30% {\n",
              "      border-color: transparent;\n",
              "      border-left-color: var(--fill-color);\n",
              "      border-top-color: var(--fill-color);\n",
              "      border-right-color: var(--fill-color);\n",
              "    }\n",
              "    40% {\n",
              "      border-color: transparent;\n",
              "      border-right-color: var(--fill-color);\n",
              "      border-top-color: var(--fill-color);\n",
              "    }\n",
              "    60% {\n",
              "      border-color: transparent;\n",
              "      border-right-color: var(--fill-color);\n",
              "    }\n",
              "    80% {\n",
              "      border-color: transparent;\n",
              "      border-right-color: var(--fill-color);\n",
              "      border-bottom-color: var(--fill-color);\n",
              "    }\n",
              "    90% {\n",
              "      border-color: transparent;\n",
              "      border-bottom-color: var(--fill-color);\n",
              "    }\n",
              "  }\n",
              "</style>\n",
              "\n",
              "      <script>\n",
              "        async function quickchart(key) {\n",
              "          const quickchartButtonEl =\n",
              "            document.querySelector('#' + key + ' button');\n",
              "          quickchartButtonEl.disabled = true;  // To prevent multiple clicks.\n",
              "          quickchartButtonEl.classList.add('colab-df-spinner');\n",
              "          try {\n",
              "            const charts = await google.colab.kernel.invokeFunction(\n",
              "                'suggestCharts', [key], {});\n",
              "          } catch (error) {\n",
              "            console.error('Error during call to suggestCharts:', error);\n",
              "          }\n",
              "          quickchartButtonEl.classList.remove('colab-df-spinner');\n",
              "          quickchartButtonEl.classList.add('colab-df-quickchart-complete');\n",
              "        }\n",
              "        (() => {\n",
              "          let quickchartButtonEl =\n",
              "            document.querySelector('#df-3ea778b4-c87c-4bed-8c70-8536c4cb88e4 button');\n",
              "          quickchartButtonEl.style.display =\n",
              "            google.colab.kernel.accessAllowed ? 'block' : 'none';\n",
              "        })();\n",
              "      </script>\n",
              "    </div>\n",
              "\n",
              "  <div id=\"id_a762c98f-ed52-4934-8996-94fca088de52\">\n",
              "    <style>\n",
              "      .colab-df-generate {\n",
              "        background-color: #E8F0FE;\n",
              "        border: none;\n",
              "        border-radius: 50%;\n",
              "        cursor: pointer;\n",
              "        display: none;\n",
              "        fill: #1967D2;\n",
              "        height: 32px;\n",
              "        padding: 0 0 0 0;\n",
              "        width: 32px;\n",
              "      }\n",
              "\n",
              "      .colab-df-generate:hover {\n",
              "        background-color: #E2EBFA;\n",
              "        box-shadow: 0px 1px 2px rgba(60, 64, 67, 0.3), 0px 1px 3px 1px rgba(60, 64, 67, 0.15);\n",
              "        fill: #174EA6;\n",
              "      }\n",
              "\n",
              "      [theme=dark] .colab-df-generate {\n",
              "        background-color: #3B4455;\n",
              "        fill: #D2E3FC;\n",
              "      }\n",
              "\n",
              "      [theme=dark] .colab-df-generate:hover {\n",
              "        background-color: #434B5C;\n",
              "        box-shadow: 0px 1px 3px 1px rgba(0, 0, 0, 0.15);\n",
              "        filter: drop-shadow(0px 1px 2px rgba(0, 0, 0, 0.3));\n",
              "        fill: #FFFFFF;\n",
              "      }\n",
              "    </style>\n",
              "    <button class=\"colab-df-generate\" onclick=\"generateWithVariable('table')\"\n",
              "            title=\"Generate code using this dataframe.\"\n",
              "            style=\"display:none;\">\n",
              "\n",
              "  <svg xmlns=\"http://www.w3.org/2000/svg\" height=\"24px\"viewBox=\"0 0 24 24\"\n",
              "       width=\"24px\">\n",
              "    <path d=\"M7,19H8.4L18.45,9,17,7.55,7,17.6ZM5,21V16.75L18.45,3.32a2,2,0,0,1,2.83,0l1.4,1.43a1.91,1.91,0,0,1,.58,1.4,1.91,1.91,0,0,1-.58,1.4L9.25,21ZM18.45,9,17,7.55Zm-12,3A5.31,5.31,0,0,0,4.9,8.1,5.31,5.31,0,0,0,1,6.5,5.31,5.31,0,0,0,4.9,4.9,5.31,5.31,0,0,0,6.5,1,5.31,5.31,0,0,0,8.1,4.9,5.31,5.31,0,0,0,12,6.5,5.46,5.46,0,0,0,6.5,12Z\"/>\n",
              "  </svg>\n",
              "    </button>\n",
              "    <script>\n",
              "      (() => {\n",
              "      const buttonEl =\n",
              "        document.querySelector('#id_a762c98f-ed52-4934-8996-94fca088de52 button.colab-df-generate');\n",
              "      buttonEl.style.display =\n",
              "        google.colab.kernel.accessAllowed ? 'block' : 'none';\n",
              "\n",
              "      buttonEl.onclick = () => {\n",
              "        google.colab.notebook.generateWithVariable('table');\n",
              "      }\n",
              "      })();\n",
              "    </script>\n",
              "  </div>\n",
              "\n",
              "    </div>\n",
              "  </div>\n"
            ],
            "application/vnd.google.colaboratory.intrinsic+json": {
              "type": "dataframe",
              "variable_name": "table",
              "summary": "{\n  \"name\": \"table\",\n  \"rows\": 5,\n  \"fields\": [\n    {\n      \"column\": \"Language\",\n      \"properties\": {\n        \"dtype\": \"string\",\n        \"num_unique_values\": 5,\n        \"samples\": [\n          \"French\",\n          \"English\",\n          \"Italian\"\n        ],\n        \"semantic_type\": \"\",\n        \"description\": \"\"\n      }\n    },\n    {\n      \"column\": \"Number of datasets \",\n      \"properties\": {\n        \"dtype\": \"number\",\n        \"std\": 176,\n        \"min\": 0,\n        \"max\": 407,\n        \"num_unique_values\": 4,\n        \"samples\": [\n          2,\n          407,\n          60\n        ],\n        \"semantic_type\": \"\",\n        \"description\": \"\"\n      }\n    }\n  ]\n}"
            }
          },
          "metadata": {},
          "execution_count": 16
        }
      ]
    },
    {
      "cell_type": "markdown",
      "source": [
        "Теперь смотрим какая ситуация у нас будет при выборке в которой основной запрос переведён на национальные языки. **Внимание: если очевидно, что агент не перевел запрос, а просто оставил его в исходном виде (как в предыдущей ячейке), просто выполните запрос в этой ячейке ещё раз -- скорее всего LLM исправится и осуществит перевод.**"
      ],
      "metadata": {
        "id": "vSoGaqaQXA4F"
      }
    },
    {
      "cell_type": "code",
      "source": [
        "# @title Количество датасетов на нац. языках с переводом запроса на эти языки:\n",
        "history_tr = \"history+trans.json\"\n",
        "context_tr = \"context+trans.json\"\n",
        "\n",
        "query_text, llm_response, history, error = ask_llm_for_country(client, country,\n",
        "                                                               context_file=context_tr,\n",
        "                                                               history_file=history_tr)\n",
        "if error:\n",
        "    raise ValueError(f\"Error: {error}\")\n",
        "\n",
        "query, results, data, error = dateno_index_search(llm_response)\n",
        "table = results_table(query, data)\n",
        "table"
      ],
      "metadata": {
        "colab": {
          "base_uri": "https://localhost:8080/",
          "height": 444
        },
        "cellView": "form",
        "id": "6PifwXvtoCzK",
        "outputId": "b175bf27-8f3e-4b26-dbb3-2deab6ce1172"
      },
      "execution_count": null,
      "outputs": [
        {
          "output_type": "stream",
          "name": "stdout",
          "text": [
            "Query: income taxes in Switzerland in all official national languages\n",
            "context_file='/content/drive/MyDrive/colab_data/dateno/context+trans,json'\n",
            "history_file='/content/drive/MyDrive/colab_data/dateno/history+trans.json'\n",
            "Skipping query due to missing filters: income taxes in Switzerland in all official national languages\n",
            "Subquery: Einkommensteuer | Filters: [{'name': 'source.countries.name', 'value': 'Switzerland'}, {'name': 'source.langs.name', 'value': 'German'}]\n",
            "Subquery: impôts sur le revenu | Filters: [{'name': 'source.countries.name', 'value': 'Switzerland'}, {'name': 'source.langs.name', 'value': 'French'}]\n",
            "Subquery: imposta sul reddito | Filters: [{'name': 'source.countries.name', 'value': 'Switzerland'}, {'name': 'source.langs.name', 'value': 'Italian'}]\n",
            "Subquery: tassa sin la renda | Filters: [{'name': 'source.countries.name', 'value': 'Switzerland'}, {'name': 'source.langs.name', 'value': 'Romansh'}]\n",
            "Subquery: income taxes | Filters: [{'name': 'source.countries.name', 'value': 'Switzerland'}, {'name': 'source.langs.name', 'value': 'English'}]\n",
            "\n",
            "Datasets for query 'income taxes in Switzerland in all official national languages':\n",
            "\n"
          ]
        },
        {
          "output_type": "execute_result",
          "data": {
            "text/plain": [
              "  Language  Number of datasets \n",
              "0   German                    0\n",
              "1   French                  500\n",
              "2  Italian                    0\n",
              "3  Romansh                    0\n",
              "4  English                  407"
            ],
            "text/html": [
              "\n",
              "  <div id=\"df-869ad80e-05de-4dfa-a105-f2ce1e748b05\" class=\"colab-df-container\">\n",
              "    <div>\n",
              "<style scoped>\n",
              "    .dataframe tbody tr th:only-of-type {\n",
              "        vertical-align: middle;\n",
              "    }\n",
              "\n",
              "    .dataframe tbody tr th {\n",
              "        vertical-align: top;\n",
              "    }\n",
              "\n",
              "    .dataframe thead th {\n",
              "        text-align: right;\n",
              "    }\n",
              "</style>\n",
              "<table border=\"1\" class=\"dataframe\">\n",
              "  <thead>\n",
              "    <tr style=\"text-align: right;\">\n",
              "      <th></th>\n",
              "      <th>Language</th>\n",
              "      <th>Number of datasets</th>\n",
              "    </tr>\n",
              "  </thead>\n",
              "  <tbody>\n",
              "    <tr>\n",
              "      <th>0</th>\n",
              "      <td>German</td>\n",
              "      <td>0</td>\n",
              "    </tr>\n",
              "    <tr>\n",
              "      <th>1</th>\n",
              "      <td>French</td>\n",
              "      <td>500</td>\n",
              "    </tr>\n",
              "    <tr>\n",
              "      <th>2</th>\n",
              "      <td>Italian</td>\n",
              "      <td>0</td>\n",
              "    </tr>\n",
              "    <tr>\n",
              "      <th>3</th>\n",
              "      <td>Romansh</td>\n",
              "      <td>0</td>\n",
              "    </tr>\n",
              "    <tr>\n",
              "      <th>4</th>\n",
              "      <td>English</td>\n",
              "      <td>407</td>\n",
              "    </tr>\n",
              "  </tbody>\n",
              "</table>\n",
              "</div>\n",
              "    <div class=\"colab-df-buttons\">\n",
              "\n",
              "  <div class=\"colab-df-container\">\n",
              "    <button class=\"colab-df-convert\" onclick=\"convertToInteractive('df-869ad80e-05de-4dfa-a105-f2ce1e748b05')\"\n",
              "            title=\"Convert this dataframe to an interactive table.\"\n",
              "            style=\"display:none;\">\n",
              "\n",
              "  <svg xmlns=\"http://www.w3.org/2000/svg\" height=\"24px\" viewBox=\"0 -960 960 960\">\n",
              "    <path d=\"M120-120v-720h720v720H120Zm60-500h600v-160H180v160Zm220 220h160v-160H400v160Zm0 220h160v-160H400v160ZM180-400h160v-160H180v160Zm440 0h160v-160H620v160ZM180-180h160v-160H180v160Zm440 0h160v-160H620v160Z\"/>\n",
              "  </svg>\n",
              "    </button>\n",
              "\n",
              "  <style>\n",
              "    .colab-df-container {\n",
              "      display:flex;\n",
              "      gap: 12px;\n",
              "    }\n",
              "\n",
              "    .colab-df-convert {\n",
              "      background-color: #E8F0FE;\n",
              "      border: none;\n",
              "      border-radius: 50%;\n",
              "      cursor: pointer;\n",
              "      display: none;\n",
              "      fill: #1967D2;\n",
              "      height: 32px;\n",
              "      padding: 0 0 0 0;\n",
              "      width: 32px;\n",
              "    }\n",
              "\n",
              "    .colab-df-convert:hover {\n",
              "      background-color: #E2EBFA;\n",
              "      box-shadow: 0px 1px 2px rgba(60, 64, 67, 0.3), 0px 1px 3px 1px rgba(60, 64, 67, 0.15);\n",
              "      fill: #174EA6;\n",
              "    }\n",
              "\n",
              "    .colab-df-buttons div {\n",
              "      margin-bottom: 4px;\n",
              "    }\n",
              "\n",
              "    [theme=dark] .colab-df-convert {\n",
              "      background-color: #3B4455;\n",
              "      fill: #D2E3FC;\n",
              "    }\n",
              "\n",
              "    [theme=dark] .colab-df-convert:hover {\n",
              "      background-color: #434B5C;\n",
              "      box-shadow: 0px 1px 3px 1px rgba(0, 0, 0, 0.15);\n",
              "      filter: drop-shadow(0px 1px 2px rgba(0, 0, 0, 0.3));\n",
              "      fill: #FFFFFF;\n",
              "    }\n",
              "  </style>\n",
              "\n",
              "    <script>\n",
              "      const buttonEl =\n",
              "        document.querySelector('#df-869ad80e-05de-4dfa-a105-f2ce1e748b05 button.colab-df-convert');\n",
              "      buttonEl.style.display =\n",
              "        google.colab.kernel.accessAllowed ? 'block' : 'none';\n",
              "\n",
              "      async function convertToInteractive(key) {\n",
              "        const element = document.querySelector('#df-869ad80e-05de-4dfa-a105-f2ce1e748b05');\n",
              "        const dataTable =\n",
              "          await google.colab.kernel.invokeFunction('convertToInteractive',\n",
              "                                                    [key], {});\n",
              "        if (!dataTable) return;\n",
              "\n",
              "        const docLinkHtml = 'Like what you see? Visit the ' +\n",
              "          '<a target=\"_blank\" href=https://colab.research.google.com/notebooks/data_table.ipynb>data table notebook</a>'\n",
              "          + ' to learn more about interactive tables.';\n",
              "        element.innerHTML = '';\n",
              "        dataTable['output_type'] = 'display_data';\n",
              "        await google.colab.output.renderOutput(dataTable, element);\n",
              "        const docLink = document.createElement('div');\n",
              "        docLink.innerHTML = docLinkHtml;\n",
              "        element.appendChild(docLink);\n",
              "      }\n",
              "    </script>\n",
              "  </div>\n",
              "\n",
              "\n",
              "    <div id=\"df-2fbed960-9f5a-409a-a583-ef56237c5a93\">\n",
              "      <button class=\"colab-df-quickchart\" onclick=\"quickchart('df-2fbed960-9f5a-409a-a583-ef56237c5a93')\"\n",
              "                title=\"Suggest charts\"\n",
              "                style=\"display:none;\">\n",
              "\n",
              "<svg xmlns=\"http://www.w3.org/2000/svg\" height=\"24px\"viewBox=\"0 0 24 24\"\n",
              "     width=\"24px\">\n",
              "    <g>\n",
              "        <path d=\"M19 3H5c-1.1 0-2 .9-2 2v14c0 1.1.9 2 2 2h14c1.1 0 2-.9 2-2V5c0-1.1-.9-2-2-2zM9 17H7v-7h2v7zm4 0h-2V7h2v10zm4 0h-2v-4h2v4z\"/>\n",
              "    </g>\n",
              "</svg>\n",
              "      </button>\n",
              "\n",
              "<style>\n",
              "  .colab-df-quickchart {\n",
              "      --bg-color: #E8F0FE;\n",
              "      --fill-color: #1967D2;\n",
              "      --hover-bg-color: #E2EBFA;\n",
              "      --hover-fill-color: #174EA6;\n",
              "      --disabled-fill-color: #AAA;\n",
              "      --disabled-bg-color: #DDD;\n",
              "  }\n",
              "\n",
              "  [theme=dark] .colab-df-quickchart {\n",
              "      --bg-color: #3B4455;\n",
              "      --fill-color: #D2E3FC;\n",
              "      --hover-bg-color: #434B5C;\n",
              "      --hover-fill-color: #FFFFFF;\n",
              "      --disabled-bg-color: #3B4455;\n",
              "      --disabled-fill-color: #666;\n",
              "  }\n",
              "\n",
              "  .colab-df-quickchart {\n",
              "    background-color: var(--bg-color);\n",
              "    border: none;\n",
              "    border-radius: 50%;\n",
              "    cursor: pointer;\n",
              "    display: none;\n",
              "    fill: var(--fill-color);\n",
              "    height: 32px;\n",
              "    padding: 0;\n",
              "    width: 32px;\n",
              "  }\n",
              "\n",
              "  .colab-df-quickchart:hover {\n",
              "    background-color: var(--hover-bg-color);\n",
              "    box-shadow: 0 1px 2px rgba(60, 64, 67, 0.3), 0 1px 3px 1px rgba(60, 64, 67, 0.15);\n",
              "    fill: var(--button-hover-fill-color);\n",
              "  }\n",
              "\n",
              "  .colab-df-quickchart-complete:disabled,\n",
              "  .colab-df-quickchart-complete:disabled:hover {\n",
              "    background-color: var(--disabled-bg-color);\n",
              "    fill: var(--disabled-fill-color);\n",
              "    box-shadow: none;\n",
              "  }\n",
              "\n",
              "  .colab-df-spinner {\n",
              "    border: 2px solid var(--fill-color);\n",
              "    border-color: transparent;\n",
              "    border-bottom-color: var(--fill-color);\n",
              "    animation:\n",
              "      spin 1s steps(1) infinite;\n",
              "  }\n",
              "\n",
              "  @keyframes spin {\n",
              "    0% {\n",
              "      border-color: transparent;\n",
              "      border-bottom-color: var(--fill-color);\n",
              "      border-left-color: var(--fill-color);\n",
              "    }\n",
              "    20% {\n",
              "      border-color: transparent;\n",
              "      border-left-color: var(--fill-color);\n",
              "      border-top-color: var(--fill-color);\n",
              "    }\n",
              "    30% {\n",
              "      border-color: transparent;\n",
              "      border-left-color: var(--fill-color);\n",
              "      border-top-color: var(--fill-color);\n",
              "      border-right-color: var(--fill-color);\n",
              "    }\n",
              "    40% {\n",
              "      border-color: transparent;\n",
              "      border-right-color: var(--fill-color);\n",
              "      border-top-color: var(--fill-color);\n",
              "    }\n",
              "    60% {\n",
              "      border-color: transparent;\n",
              "      border-right-color: var(--fill-color);\n",
              "    }\n",
              "    80% {\n",
              "      border-color: transparent;\n",
              "      border-right-color: var(--fill-color);\n",
              "      border-bottom-color: var(--fill-color);\n",
              "    }\n",
              "    90% {\n",
              "      border-color: transparent;\n",
              "      border-bottom-color: var(--fill-color);\n",
              "    }\n",
              "  }\n",
              "</style>\n",
              "\n",
              "      <script>\n",
              "        async function quickchart(key) {\n",
              "          const quickchartButtonEl =\n",
              "            document.querySelector('#' + key + ' button');\n",
              "          quickchartButtonEl.disabled = true;  // To prevent multiple clicks.\n",
              "          quickchartButtonEl.classList.add('colab-df-spinner');\n",
              "          try {\n",
              "            const charts = await google.colab.kernel.invokeFunction(\n",
              "                'suggestCharts', [key], {});\n",
              "          } catch (error) {\n",
              "            console.error('Error during call to suggestCharts:', error);\n",
              "          }\n",
              "          quickchartButtonEl.classList.remove('colab-df-spinner');\n",
              "          quickchartButtonEl.classList.add('colab-df-quickchart-complete');\n",
              "        }\n",
              "        (() => {\n",
              "          let quickchartButtonEl =\n",
              "            document.querySelector('#df-2fbed960-9f5a-409a-a583-ef56237c5a93 button');\n",
              "          quickchartButtonEl.style.display =\n",
              "            google.colab.kernel.accessAllowed ? 'block' : 'none';\n",
              "        })();\n",
              "      </script>\n",
              "    </div>\n",
              "\n",
              "  <div id=\"id_d03703c1-3ddf-4cd9-8565-82b3746f5981\">\n",
              "    <style>\n",
              "      .colab-df-generate {\n",
              "        background-color: #E8F0FE;\n",
              "        border: none;\n",
              "        border-radius: 50%;\n",
              "        cursor: pointer;\n",
              "        display: none;\n",
              "        fill: #1967D2;\n",
              "        height: 32px;\n",
              "        padding: 0 0 0 0;\n",
              "        width: 32px;\n",
              "      }\n",
              "\n",
              "      .colab-df-generate:hover {\n",
              "        background-color: #E2EBFA;\n",
              "        box-shadow: 0px 1px 2px rgba(60, 64, 67, 0.3), 0px 1px 3px 1px rgba(60, 64, 67, 0.15);\n",
              "        fill: #174EA6;\n",
              "      }\n",
              "\n",
              "      [theme=dark] .colab-df-generate {\n",
              "        background-color: #3B4455;\n",
              "        fill: #D2E3FC;\n",
              "      }\n",
              "\n",
              "      [theme=dark] .colab-df-generate:hover {\n",
              "        background-color: #434B5C;\n",
              "        box-shadow: 0px 1px 3px 1px rgba(0, 0, 0, 0.15);\n",
              "        filter: drop-shadow(0px 1px 2px rgba(0, 0, 0, 0.3));\n",
              "        fill: #FFFFFF;\n",
              "      }\n",
              "    </style>\n",
              "    <button class=\"colab-df-generate\" onclick=\"generateWithVariable('table')\"\n",
              "            title=\"Generate code using this dataframe.\"\n",
              "            style=\"display:none;\">\n",
              "\n",
              "  <svg xmlns=\"http://www.w3.org/2000/svg\" height=\"24px\"viewBox=\"0 0 24 24\"\n",
              "       width=\"24px\">\n",
              "    <path d=\"M7,19H8.4L18.45,9,17,7.55,7,17.6ZM5,21V16.75L18.45,3.32a2,2,0,0,1,2.83,0l1.4,1.43a1.91,1.91,0,0,1,.58,1.4,1.91,1.91,0,0,1-.58,1.4L9.25,21ZM18.45,9,17,7.55Zm-12,3A5.31,5.31,0,0,0,4.9,8.1,5.31,5.31,0,0,0,1,6.5,5.31,5.31,0,0,0,4.9,4.9,5.31,5.31,0,0,0,6.5,1,5.31,5.31,0,0,0,8.1,4.9,5.31,5.31,0,0,0,12,6.5,5.46,5.46,0,0,0,6.5,12Z\"/>\n",
              "  </svg>\n",
              "    </button>\n",
              "    <script>\n",
              "      (() => {\n",
              "      const buttonEl =\n",
              "        document.querySelector('#id_d03703c1-3ddf-4cd9-8565-82b3746f5981 button.colab-df-generate');\n",
              "      buttonEl.style.display =\n",
              "        google.colab.kernel.accessAllowed ? 'block' : 'none';\n",
              "\n",
              "      buttonEl.onclick = () => {\n",
              "        google.colab.notebook.generateWithVariable('table');\n",
              "      }\n",
              "      })();\n",
              "    </script>\n",
              "  </div>\n",
              "\n",
              "    </div>\n",
              "  </div>\n"
            ],
            "application/vnd.google.colaboratory.intrinsic+json": {
              "type": "dataframe",
              "variable_name": "table",
              "summary": "{\n  \"name\": \"table\",\n  \"rows\": 5,\n  \"fields\": [\n    {\n      \"column\": \"Language\",\n      \"properties\": {\n        \"dtype\": \"string\",\n        \"num_unique_values\": 5,\n        \"samples\": [\n          \"French\",\n          \"English\",\n          \"Italian\"\n        ],\n        \"semantic_type\": \"\",\n        \"description\": \"\"\n      }\n    },\n    {\n      \"column\": \"Number of datasets \",\n      \"properties\": {\n        \"dtype\": \"number\",\n        \"std\": 250,\n        \"min\": 0,\n        \"max\": 500,\n        \"num_unique_values\": 3,\n        \"samples\": [\n          0,\n          500,\n          407\n        ],\n        \"semantic_type\": \"\",\n        \"description\": \"\"\n      }\n    }\n  ]\n}"
            }
          },
          "metadata": {},
          "execution_count": 15
        }
      ]
    },
    {
      "cell_type": "markdown",
      "source": [
        "То есть можно сделать вывод: во франкоязычных кантонах Швейцарии стараются всё переводить на французский, а в германоязычных — довольно легко заимствуют англоязычную лексику, благо это та же германская группа языков 😉"
      ],
      "metadata": {
        "id": "grDtWPSkIZkz"
      }
    },
    {
      "cell_type": "markdown",
      "source": [
        "## Как мы этого добились"
      ],
      "metadata": {
        "id": "6Y1anN0X-wAk"
      }
    },
    {
      "cell_type": "markdown",
      "source": [
        "Мы используем два разных контекста для выполнения перевода запроса на местные языки и для запросов без перевода.\n",
        "\n",
        "Для того что бы создать файл нужного нам контекста мы посылаем запросы нашему LLM-агенту и проставляем пометки Like/Dislike если хотим какие-то из моментов нашего conversation'а пометить для дальнейшего использования в качестве контекста запроса. Продолжаем эту процедуру пока не получим желаемого результата.\n",
        "\n",
        "**Внимание: если ответ не был получен или он не по каким-то соображениям не устраивает, попробуйте выполните запрос в этой ячейке ещё раз, возможно переформулировав и/или уточнив его.**"
      ],
      "metadata": {
        "id": "rJc63fu8Hssm"
      }
    },
    {
      "cell_type": "code",
      "source": [
        "# @title Вводим запрос:\n",
        "query = \"use all official langs of this country with translation of query to this langs\" # @param {\"type\":\"string\",\"placeholder\":\"Provide a country name\"}\n",
        "history_file = \"history.json\" # @param {\"type\":\"string\",\"placeholder\":\"Enter History's file name\"}\n",
        "\n",
        "query_text, result_json, history, error = ask_llm(client, query, history_file=history_file)\n",
        "if error:\n",
        "    raise ValueError(f\"Error: {error}\")\n",
        "else:\n",
        "    rating_widget = DatenoSearchChatWidget(client, history_file=history_file)\n",
        "    rwd = rating_widget.display()\n",
        "    display(rwd)"
      ],
      "metadata": {
        "colab": {
          "base_uri": "https://localhost:8080/",
          "height": 296,
          "referenced_widgets": [
            "b6f48c8f77f84f96b8daae653dfe6870",
            "f40b754c7a914321a318c32478b602cc",
            "33dab84166154e8c9170bce49ce1850a",
            "0381e75a561c436bb2884e63e3f315a1",
            "1ca229b40c4743c0b4e27e1c03e3884d",
            "22f6d95d0cb54fb2b28cf764cb1ce399",
            "89d5cba0279f499483c04b5155d6f7cd",
            "ac9860ff350a4d42abb6d2e62801601c",
            "a408c8317a4d4061aad27f31b1514d43",
            "f89785209124483a893430d425e7f5a0",
            "dbd5a80f17ae4f2abb546749864a8aa6",
            "ac244e7a00974f26aa03638704c0c6a7",
            "afbe158891474168bbc5c2b957f49ee0",
            "fe893a0ae4954b72bf45aafe592c0466",
            "0512cb8cb88f432491c9d385126860eb",
            "43bfafcac0f9465fa16ef10f6ab5f5cd"
          ]
        },
        "collapsed": true,
        "cellView": "form",
        "id": "mPC50RYP6BSh",
        "outputId": "585e3d45-12a2-447c-e72f-02883515bef7"
      },
      "execution_count": null,
      "outputs": [
        {
          "output_type": "stream",
          "name": "stdout",
          "text": [
            "context_file='/content/drive/MyDrive/colab_data/dateno/context,json'\n",
            "history_file='/content/drive/MyDrive/colab_data/dateno/history.json'\n"
          ]
        },
        {
          "output_type": "display_data",
          "data": {
            "text/plain": [
              "VBox(children=(HTML(value='===============================================<br><strong>Question:</strong> <stro…"
            ],
            "application/vnd.jupyter.widget-view+json": {
              "version_major": 2,
              "version_minor": 0,
              "model_id": "b6f48c8f77f84f96b8daae653dfe6870"
            }
          },
          "metadata": {}
        }
      ]
    },
    {
      "cell_type": "markdown",
      "source": [
        "Так можем посмотреть всю историю."
      ],
      "metadata": {
        "id": "pjbElpV-I3vA"
      }
    },
    {
      "cell_type": "code",
      "source": [
        "rating_widget.display_history()"
      ],
      "metadata": {
        "colab": {
          "base_uri": "https://localhost:8080/",
          "height": 1000,
          "referenced_widgets": [
            "7eeac3dc8a9f461e80542561a6ef12d4",
            "571a04cc7eeb4f8480110a0eee6ec0da",
            "4639dd76c7d6499eb4f1b755f6ae9810"
          ]
        },
        "id": "79oZuPzTq6Qi",
        "outputId": "4533a3ef-850b-47e5-81de-8d7f9a18c4a2"
      },
      "execution_count": null,
      "outputs": [
        {
          "output_type": "display_data",
          "data": {
            "text/plain": [
              "HTML(value='===============================================<br><strong>1. Question:</strong> <strong><em>incom…"
            ],
            "application/vnd.jupyter.widget-view+json": {
              "version_major": 2,
              "version_minor": 0,
              "model_id": "7eeac3dc8a9f461e80542561a6ef12d4"
            }
          },
          "metadata": {}
        }
      ]
    },
    {
      "cell_type": "markdown",
      "source": [
        "Конвертируем историю в контекст:"
      ],
      "metadata": {
        "id": "ZN33GrrpPJ3z"
      }
    },
    {
      "cell_type": "code",
      "source": [
        "context_file='context.json'\n",
        "\n",
        "history2context(history_file, context_file)"
      ],
      "metadata": {
        "id": "e99YAmJ9oHCr"
      },
      "execution_count": null,
      "outputs": []
    },
    {
      "cell_type": "markdown",
      "source": [
        "Вот что у нас получается:"
      ],
      "metadata": {
        "id": "CpGDWJFqPPXL"
      }
    },
    {
      "cell_type": "code",
      "source": [
        "with open(get_full_path(context_file), 'r') as f:\n",
        "  context_data = json.load(f)\n",
        "\n",
        "rating_widget.display_history(context_data)\n"
      ],
      "metadata": {
        "colab": {
          "base_uri": "https://localhost:8080/",
          "height": 1000,
          "referenced_widgets": [
            "f789cde88098455cab06aba4a634f07a",
            "2dcee7136d244517a0ed1f2e74e61354",
            "78ae0e7c5dcf4a3f9f8d9fec4a4a02ab"
          ]
        },
        "id": "lojwhtuVMLJc",
        "outputId": "69d3a43a-42b8-488d-ba7e-4d9bb614aa65"
      },
      "execution_count": null,
      "outputs": [
        {
          "output_type": "display_data",
          "data": {
            "text/plain": [
              "HTML(value='===============================================<br><strong>1. Question:</strong> <strong><em>incom…"
            ],
            "application/vnd.jupyter.widget-view+json": {
              "version_major": 2,
              "version_minor": 0,
              "model_id": "f789cde88098455cab06aba4a634f07a"
            }
          },
          "metadata": {}
        }
      ]
    },
    {
      "cell_type": "markdown",
      "source": [
        "Как видим, туда попали только помеченные нами фрагменты conersation'а с LLM-агентом. Теперь можем использовать этот файл контекста для выполнения тех или иных запросов. В нашем случае, напр. -- мы имеем два разных контекста для выполнения перевода запроса на местные языки и для запросов без перевода.\n",
        "\n",
        "Далее эти файлы контекста можем передавать как аргументы функциям обращения к LLM-агентам."
      ],
      "metadata": {
        "id": "VD11E5d5PbsC"
      }
    }
  ]
}